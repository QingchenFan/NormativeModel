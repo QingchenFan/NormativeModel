{
 "cells": [
  {
   "cell_type": "code",
   "execution_count": 56,
   "metadata": {
    "collapsed": true,
    "ExecuteTime": {
     "end_time": "2025-01-02T07:16:03.000243Z",
     "start_time": "2025-01-02T07:16:02.992267Z"
    }
   },
   "outputs": [],
   "source": [
    "import glob\n",
    "import numpy as np\n",
    "import scipy.io as scio\n",
    "from brainspace.datasets import load_parcellation, load_conte69\n",
    "from brainspace.gradient import GradientMaps\n",
    "from brainspace.plotting import plot_hemispheres\n",
    "from brainspace.utils.parcellation import map_to_labels\n",
    "from scipy.io import savemat\n",
    "import matplotlib.pyplot as plt"
   ]
  },
  {
   "cell_type": "code",
   "execution_count": 57,
   "outputs": [
    {
     "name": "stdout",
     "output_type": "stream",
     "text": [
      "['/Volumes/QCI/NormativeModel/Results/Result_GrayVol246_HBR_HCMDD_1228/StaResults/Gradient/subtype2_246FC/sub-1000002V01_FC.mat', '/Volumes/QCI/NormativeModel/Results/Result_GrayVol246_HBR_HCMDD_1228/StaResults/Gradient/subtype2_246FC/sub-1000003V01_FC.mat', '/Volumes/QCI/NormativeModel/Results/Result_GrayVol246_HBR_HCMDD_1228/StaResults/Gradient/subtype2_246FC/sub-1000012V01_FC.mat', '/Volumes/QCI/NormativeModel/Results/Result_GrayVol246_HBR_HCMDD_1228/StaResults/Gradient/subtype2_246FC/sub-1000024V01_FC.mat', '/Volumes/QCI/NormativeModel/Results/Result_GrayVol246_HBR_HCMDD_1228/StaResults/Gradient/subtype2_246FC/sub-1000052V01_FC.mat', '/Volumes/QCI/NormativeModel/Results/Result_GrayVol246_HBR_HCMDD_1228/StaResults/Gradient/subtype2_246FC/sub-1000053V01_FC.mat', '/Volumes/QCI/NormativeModel/Results/Result_GrayVol246_HBR_HCMDD_1228/StaResults/Gradient/subtype2_246FC/sub-1000060V01_FC.mat', '/Volumes/QCI/NormativeModel/Results/Result_GrayVol246_HBR_HCMDD_1228/StaResults/Gradient/subtype2_246FC/sub-1000063V01_FC.mat', '/Volumes/QCI/NormativeModel/Results/Result_GrayVol246_HBR_HCMDD_1228/StaResults/Gradient/subtype2_246FC/sub-1000064V01_FC.mat', '/Volumes/QCI/NormativeModel/Results/Result_GrayVol246_HBR_HCMDD_1228/StaResults/Gradient/subtype2_246FC/sub-1000068V01_FC.mat', '/Volumes/QCI/NormativeModel/Results/Result_GrayVol246_HBR_HCMDD_1228/StaResults/Gradient/subtype2_246FC/sub-1000083V01_FC.mat', '/Volumes/QCI/NormativeModel/Results/Result_GrayVol246_HBR_HCMDD_1228/StaResults/Gradient/subtype2_246FC/sub-1000115V01_FC.mat', '/Volumes/QCI/NormativeModel/Results/Result_GrayVol246_HBR_HCMDD_1228/StaResults/Gradient/subtype2_246FC/sub-1000122V01_FC.mat', '/Volumes/QCI/NormativeModel/Results/Result_GrayVol246_HBR_HCMDD_1228/StaResults/Gradient/subtype2_246FC/sub-1000128V01_FC.mat', '/Volumes/QCI/NormativeModel/Results/Result_GrayVol246_HBR_HCMDD_1228/StaResults/Gradient/subtype2_246FC/sub-1000140V01_FC.mat', '/Volumes/QCI/NormativeModel/Results/Result_GrayVol246_HBR_HCMDD_1228/StaResults/Gradient/subtype2_246FC/sub-1000153V01_FC.mat', '/Volumes/QCI/NormativeModel/Results/Result_GrayVol246_HBR_HCMDD_1228/StaResults/Gradient/subtype2_246FC/sub-1000161V01_FC.mat', '/Volumes/QCI/NormativeModel/Results/Result_GrayVol246_HBR_HCMDD_1228/StaResults/Gradient/subtype2_246FC/sub-1000168V01_FC.mat', '/Volumes/QCI/NormativeModel/Results/Result_GrayVol246_HBR_HCMDD_1228/StaResults/Gradient/subtype2_246FC/sub-1000169V01_FC.mat', '/Volumes/QCI/NormativeModel/Results/Result_GrayVol246_HBR_HCMDD_1228/StaResults/Gradient/subtype2_246FC/sub-1000218V01_FC.mat', '/Volumes/QCI/NormativeModel/Results/Result_GrayVol246_HBR_HCMDD_1228/StaResults/Gradient/subtype2_246FC/sub-1000222V01_FC.mat', '/Volumes/QCI/NormativeModel/Results/Result_GrayVol246_HBR_HCMDD_1228/StaResults/Gradient/subtype2_246FC/sub-1000250V01_FC.mat', '/Volumes/QCI/NormativeModel/Results/Result_GrayVol246_HBR_HCMDD_1228/StaResults/Gradient/subtype2_246FC/sub-1000280V01_FC.mat', '/Volumes/QCI/NormativeModel/Results/Result_GrayVol246_HBR_HCMDD_1228/StaResults/Gradient/subtype2_246FC/sub-1000286V01_FC.mat', '/Volumes/QCI/NormativeModel/Results/Result_GrayVol246_HBR_HCMDD_1228/StaResults/Gradient/subtype2_246FC/sub-1000304V01_FC.mat', '/Volumes/QCI/NormativeModel/Results/Result_GrayVol246_HBR_HCMDD_1228/StaResults/Gradient/subtype2_246FC/sub-1000309V01_FC.mat', '/Volumes/QCI/NormativeModel/Results/Result_GrayVol246_HBR_HCMDD_1228/StaResults/Gradient/subtype2_246FC/sub-1000314V01_FC.mat', '/Volumes/QCI/NormativeModel/Results/Result_GrayVol246_HBR_HCMDD_1228/StaResults/Gradient/subtype2_246FC/sub-1000355V01_FC.mat', '/Volumes/QCI/NormativeModel/Results/Result_GrayVol246_HBR_HCMDD_1228/StaResults/Gradient/subtype2_246FC/sub-1000369V01_FC.mat', '/Volumes/QCI/NormativeModel/Results/Result_GrayVol246_HBR_HCMDD_1228/StaResults/Gradient/subtype2_246FC/sub-1000394V01_FC.mat', '/Volumes/QCI/NormativeModel/Results/Result_GrayVol246_HBR_HCMDD_1228/StaResults/Gradient/subtype2_246FC/sub-1000413V01_FC.mat', '/Volumes/QCI/NormativeModel/Results/Result_GrayVol246_HBR_HCMDD_1228/StaResults/Gradient/subtype2_246FC/sub-1000444V01_FC.mat', '/Volumes/QCI/NormativeModel/Results/Result_GrayVol246_HBR_HCMDD_1228/StaResults/Gradient/subtype2_246FC/sub-1000447V01_FC.mat', '/Volumes/QCI/NormativeModel/Results/Result_GrayVol246_HBR_HCMDD_1228/StaResults/Gradient/subtype2_246FC/sub-1000465V01_FC.mat', '/Volumes/QCI/NormativeModel/Results/Result_GrayVol246_HBR_HCMDD_1228/StaResults/Gradient/subtype2_246FC/sub-1000468V01_FC.mat', '/Volumes/QCI/NormativeModel/Results/Result_GrayVol246_HBR_HCMDD_1228/StaResults/Gradient/subtype2_246FC/sub-1000527V01_FC.mat', '/Volumes/QCI/NormativeModel/Results/Result_GrayVol246_HBR_HCMDD_1228/StaResults/Gradient/subtype2_246FC/sub-1000535V01_FC.mat', '/Volumes/QCI/NormativeModel/Results/Result_GrayVol246_HBR_HCMDD_1228/StaResults/Gradient/subtype2_246FC/sub-1000541V01_FC.mat', '/Volumes/QCI/NormativeModel/Results/Result_GrayVol246_HBR_HCMDD_1228/StaResults/Gradient/subtype2_246FC/sub-1000548V01_FC.mat', '/Volumes/QCI/NormativeModel/Results/Result_GrayVol246_HBR_HCMDD_1228/StaResults/Gradient/subtype2_246FC/sub-1000559V01_FC.mat', '/Volumes/QCI/NormativeModel/Results/Result_GrayVol246_HBR_HCMDD_1228/StaResults/Gradient/subtype2_246FC/sub-1000587V01_FC.mat', '/Volumes/QCI/NormativeModel/Results/Result_GrayVol246_HBR_HCMDD_1228/StaResults/Gradient/subtype2_246FC/sub-1000596V01_FC.mat', '/Volumes/QCI/NormativeModel/Results/Result_GrayVol246_HBR_HCMDD_1228/StaResults/Gradient/subtype2_246FC/sub-1000607V01_FC.mat', '/Volumes/QCI/NormativeModel/Results/Result_GrayVol246_HBR_HCMDD_1228/StaResults/Gradient/subtype2_246FC/sub-1000618V01_FC.mat', '/Volumes/QCI/NormativeModel/Results/Result_GrayVol246_HBR_HCMDD_1228/StaResults/Gradient/subtype2_246FC/sub-1000642V01_FC.mat', '/Volumes/QCI/NormativeModel/Results/Result_GrayVol246_HBR_HCMDD_1228/StaResults/Gradient/subtype2_246FC/sub-1000667V01_FC.mat', '/Volumes/QCI/NormativeModel/Results/Result_GrayVol246_HBR_HCMDD_1228/StaResults/Gradient/subtype2_246FC/sub-1000735V01_FC.mat', '/Volumes/QCI/NormativeModel/Results/Result_GrayVol246_HBR_HCMDD_1228/StaResults/Gradient/subtype2_246FC/sub-1000741V01_FC.mat', '/Volumes/QCI/NormativeModel/Results/Result_GrayVol246_HBR_HCMDD_1228/StaResults/Gradient/subtype2_246FC/sub-1000818V01_FC.mat', '/Volumes/QCI/NormativeModel/Results/Result_GrayVol246_HBR_HCMDD_1228/StaResults/Gradient/subtype2_246FC/sub-1000849V01_FC.mat', '/Volumes/QCI/NormativeModel/Results/Result_GrayVol246_HBR_HCMDD_1228/StaResults/Gradient/subtype2_246FC/sub-1000974V01_FC.mat', '/Volumes/QCI/NormativeModel/Results/Result_GrayVol246_HBR_HCMDD_1228/StaResults/Gradient/subtype2_246FC/sub-1000977V01_FC.mat', '/Volumes/QCI/NormativeModel/Results/Result_GrayVol246_HBR_HCMDD_1228/StaResults/Gradient/subtype2_246FC/sub-1001006V01_FC.mat', '/Volumes/QCI/NormativeModel/Results/Result_GrayVol246_HBR_HCMDD_1228/StaResults/Gradient/subtype2_246FC/sub-1001020V01_FC.mat', '/Volumes/QCI/NormativeModel/Results/Result_GrayVol246_HBR_HCMDD_1228/StaResults/Gradient/subtype2_246FC/sub-1001028V01_FC.mat', '/Volumes/QCI/NormativeModel/Results/Result_GrayVol246_HBR_HCMDD_1228/StaResults/Gradient/subtype2_246FC/sub-MDD003_FC.mat', '/Volumes/QCI/NormativeModel/Results/Result_GrayVol246_HBR_HCMDD_1228/StaResults/Gradient/subtype2_246FC/sub-MDD005V01_FC.mat', '/Volumes/QCI/NormativeModel/Results/Result_GrayVol246_HBR_HCMDD_1228/StaResults/Gradient/subtype2_246FC/sub-MDD007_FC.mat', '/Volumes/QCI/NormativeModel/Results/Result_GrayVol246_HBR_HCMDD_1228/StaResults/Gradient/subtype2_246FC/sub-MDD009V01_FC.mat', '/Volumes/QCI/NormativeModel/Results/Result_GrayVol246_HBR_HCMDD_1228/StaResults/Gradient/subtype2_246FC/sub-MDD010_FC.mat', '/Volumes/QCI/NormativeModel/Results/Result_GrayVol246_HBR_HCMDD_1228/StaResults/Gradient/subtype2_246FC/sub-MDD012V01_FC.mat', '/Volumes/QCI/NormativeModel/Results/Result_GrayVol246_HBR_HCMDD_1228/StaResults/Gradient/subtype2_246FC/sub-MDD016V01_FC.mat', '/Volumes/QCI/NormativeModel/Results/Result_GrayVol246_HBR_HCMDD_1228/StaResults/Gradient/subtype2_246FC/sub-MDD017V01_FC.mat', '/Volumes/QCI/NormativeModel/Results/Result_GrayVol246_HBR_HCMDD_1228/StaResults/Gradient/subtype2_246FC/sub-MDD018_FC.mat', '/Volumes/QCI/NormativeModel/Results/Result_GrayVol246_HBR_HCMDD_1228/StaResults/Gradient/subtype2_246FC/sub-MDD018V01_FC.mat', '/Volumes/QCI/NormativeModel/Results/Result_GrayVol246_HBR_HCMDD_1228/StaResults/Gradient/subtype2_246FC/sub-MDD021_FC.mat', '/Volumes/QCI/NormativeModel/Results/Result_GrayVol246_HBR_HCMDD_1228/StaResults/Gradient/subtype2_246FC/sub-MDD021V01_FC.mat', '/Volumes/QCI/NormativeModel/Results/Result_GrayVol246_HBR_HCMDD_1228/StaResults/Gradient/subtype2_246FC/sub-MDD022_FC.mat', '/Volumes/QCI/NormativeModel/Results/Result_GrayVol246_HBR_HCMDD_1228/StaResults/Gradient/subtype2_246FC/sub-MDD025_FC.mat', '/Volumes/QCI/NormativeModel/Results/Result_GrayVol246_HBR_HCMDD_1228/StaResults/Gradient/subtype2_246FC/sub-MDD026V01_FC.mat', '/Volumes/QCI/NormativeModel/Results/Result_GrayVol246_HBR_HCMDD_1228/StaResults/Gradient/subtype2_246FC/sub-MDD027_FC.mat', '/Volumes/QCI/NormativeModel/Results/Result_GrayVol246_HBR_HCMDD_1228/StaResults/Gradient/subtype2_246FC/sub-MDD028V01_FC.mat', '/Volumes/QCI/NormativeModel/Results/Result_GrayVol246_HBR_HCMDD_1228/StaResults/Gradient/subtype2_246FC/sub-MDD029V01_FC.mat', '/Volumes/QCI/NormativeModel/Results/Result_GrayVol246_HBR_HCMDD_1228/StaResults/Gradient/subtype2_246FC/sub-MDD031_FC.mat', '/Volumes/QCI/NormativeModel/Results/Result_GrayVol246_HBR_HCMDD_1228/StaResults/Gradient/subtype2_246FC/sub-MDD032V01_FC.mat', '/Volumes/QCI/NormativeModel/Results/Result_GrayVol246_HBR_HCMDD_1228/StaResults/Gradient/subtype2_246FC/sub-MDD035_FC.mat', '/Volumes/QCI/NormativeModel/Results/Result_GrayVol246_HBR_HCMDD_1228/StaResults/Gradient/subtype2_246FC/sub-MDD035V01_FC.mat', '/Volumes/QCI/NormativeModel/Results/Result_GrayVol246_HBR_HCMDD_1228/StaResults/Gradient/subtype2_246FC/sub-MDD036_FC.mat', '/Volumes/QCI/NormativeModel/Results/Result_GrayVol246_HBR_HCMDD_1228/StaResults/Gradient/subtype2_246FC/sub-MDD037_FC.mat', '/Volumes/QCI/NormativeModel/Results/Result_GrayVol246_HBR_HCMDD_1228/StaResults/Gradient/subtype2_246FC/sub-MDD038_FC.mat', '/Volumes/QCI/NormativeModel/Results/Result_GrayVol246_HBR_HCMDD_1228/StaResults/Gradient/subtype2_246FC/sub-MDD038V01_FC.mat', '/Volumes/QCI/NormativeModel/Results/Result_GrayVol246_HBR_HCMDD_1228/StaResults/Gradient/subtype2_246FC/sub-MDD040_FC.mat', '/Volumes/QCI/NormativeModel/Results/Result_GrayVol246_HBR_HCMDD_1228/StaResults/Gradient/subtype2_246FC/sub-MDD040V01_FC.mat', '/Volumes/QCI/NormativeModel/Results/Result_GrayVol246_HBR_HCMDD_1228/StaResults/Gradient/subtype2_246FC/sub-MDD041_FC.mat', '/Volumes/QCI/NormativeModel/Results/Result_GrayVol246_HBR_HCMDD_1228/StaResults/Gradient/subtype2_246FC/sub-MDD041V01_FC.mat', '/Volumes/QCI/NormativeModel/Results/Result_GrayVol246_HBR_HCMDD_1228/StaResults/Gradient/subtype2_246FC/sub-MDD043_FC.mat', '/Volumes/QCI/NormativeModel/Results/Result_GrayVol246_HBR_HCMDD_1228/StaResults/Gradient/subtype2_246FC/sub-MDD043V01_FC.mat', '/Volumes/QCI/NormativeModel/Results/Result_GrayVol246_HBR_HCMDD_1228/StaResults/Gradient/subtype2_246FC/sub-MDD046_FC.mat', '/Volumes/QCI/NormativeModel/Results/Result_GrayVol246_HBR_HCMDD_1228/StaResults/Gradient/subtype2_246FC/sub-MDD047V01_FC.mat', '/Volumes/QCI/NormativeModel/Results/Result_GrayVol246_HBR_HCMDD_1228/StaResults/Gradient/subtype2_246FC/sub-MDD049V01_FC.mat', '/Volumes/QCI/NormativeModel/Results/Result_GrayVol246_HBR_HCMDD_1228/StaResults/Gradient/subtype2_246FC/sub-MDD050_FC.mat', '/Volumes/QCI/NormativeModel/Results/Result_GrayVol246_HBR_HCMDD_1228/StaResults/Gradient/subtype2_246FC/sub-MDD051V01_FC.mat', '/Volumes/QCI/NormativeModel/Results/Result_GrayVol246_HBR_HCMDD_1228/StaResults/Gradient/subtype2_246FC/sub-MDD052V01_FC.mat', '/Volumes/QCI/NormativeModel/Results/Result_GrayVol246_HBR_HCMDD_1228/StaResults/Gradient/subtype2_246FC/sub-MDD054V01_FC.mat', '/Volumes/QCI/NormativeModel/Results/Result_GrayVol246_HBR_HCMDD_1228/StaResults/Gradient/subtype2_246FC/sub-MDD055V01_FC.mat', '/Volumes/QCI/NormativeModel/Results/Result_GrayVol246_HBR_HCMDD_1228/StaResults/Gradient/subtype2_246FC/sub-MDD056_FC.mat', '/Volumes/QCI/NormativeModel/Results/Result_GrayVol246_HBR_HCMDD_1228/StaResults/Gradient/subtype2_246FC/sub-MDD057_FC.mat', '/Volumes/QCI/NormativeModel/Results/Result_GrayVol246_HBR_HCMDD_1228/StaResults/Gradient/subtype2_246FC/sub-MDD057V01_FC.mat', '/Volumes/QCI/NormativeModel/Results/Result_GrayVol246_HBR_HCMDD_1228/StaResults/Gradient/subtype2_246FC/sub-MDD061V01_FC.mat', '/Volumes/QCI/NormativeModel/Results/Result_GrayVol246_HBR_HCMDD_1228/StaResults/Gradient/subtype2_246FC/sub-MDD062V01_FC.mat', '/Volumes/QCI/NormativeModel/Results/Result_GrayVol246_HBR_HCMDD_1228/StaResults/Gradient/subtype2_246FC/sub-MDD063_FC.mat', '/Volumes/QCI/NormativeModel/Results/Result_GrayVol246_HBR_HCMDD_1228/StaResults/Gradient/subtype2_246FC/sub-MDD063V01_FC.mat', '/Volumes/QCI/NormativeModel/Results/Result_GrayVol246_HBR_HCMDD_1228/StaResults/Gradient/subtype2_246FC/sub-MDD064_FC.mat', '/Volumes/QCI/NormativeModel/Results/Result_GrayVol246_HBR_HCMDD_1228/StaResults/Gradient/subtype2_246FC/sub-MDD064V01_FC.mat', '/Volumes/QCI/NormativeModel/Results/Result_GrayVol246_HBR_HCMDD_1228/StaResults/Gradient/subtype2_246FC/sub-MDD066V01_FC.mat', '/Volumes/QCI/NormativeModel/Results/Result_GrayVol246_HBR_HCMDD_1228/StaResults/Gradient/subtype2_246FC/sub-MDD067_FC.mat', '/Volumes/QCI/NormativeModel/Results/Result_GrayVol246_HBR_HCMDD_1228/StaResults/Gradient/subtype2_246FC/sub-MDD069_FC.mat', '/Volumes/QCI/NormativeModel/Results/Result_GrayVol246_HBR_HCMDD_1228/StaResults/Gradient/subtype2_246FC/sub-MDD070_FC.mat', '/Volumes/QCI/NormativeModel/Results/Result_GrayVol246_HBR_HCMDD_1228/StaResults/Gradient/subtype2_246FC/sub-MDD070V01_FC.mat', '/Volumes/QCI/NormativeModel/Results/Result_GrayVol246_HBR_HCMDD_1228/StaResults/Gradient/subtype2_246FC/sub-MDD071_FC.mat', '/Volumes/QCI/NormativeModel/Results/Result_GrayVol246_HBR_HCMDD_1228/StaResults/Gradient/subtype2_246FC/sub-MDD071V01_FC.mat', '/Volumes/QCI/NormativeModel/Results/Result_GrayVol246_HBR_HCMDD_1228/StaResults/Gradient/subtype2_246FC/sub-MDD072_FC.mat', '/Volumes/QCI/NormativeModel/Results/Result_GrayVol246_HBR_HCMDD_1228/StaResults/Gradient/subtype2_246FC/sub-MDD075_FC.mat', '/Volumes/QCI/NormativeModel/Results/Result_GrayVol246_HBR_HCMDD_1228/StaResults/Gradient/subtype2_246FC/sub-MDD076_FC.mat', '/Volumes/QCI/NormativeModel/Results/Result_GrayVol246_HBR_HCMDD_1228/StaResults/Gradient/subtype2_246FC/sub-MDD079_FC.mat', '/Volumes/QCI/NormativeModel/Results/Result_GrayVol246_HBR_HCMDD_1228/StaResults/Gradient/subtype2_246FC/sub-MDD079V01_FC.mat', '/Volumes/QCI/NormativeModel/Results/Result_GrayVol246_HBR_HCMDD_1228/StaResults/Gradient/subtype2_246FC/sub-MDD080_FC.mat', '/Volumes/QCI/NormativeModel/Results/Result_GrayVol246_HBR_HCMDD_1228/StaResults/Gradient/subtype2_246FC/sub-MDD082_FC.mat', '/Volumes/QCI/NormativeModel/Results/Result_GrayVol246_HBR_HCMDD_1228/StaResults/Gradient/subtype2_246FC/sub-MDD083_FC.mat', '/Volumes/QCI/NormativeModel/Results/Result_GrayVol246_HBR_HCMDD_1228/StaResults/Gradient/subtype2_246FC/sub-MDD084_FC.mat', '/Volumes/QCI/NormativeModel/Results/Result_GrayVol246_HBR_HCMDD_1228/StaResults/Gradient/subtype2_246FC/sub-MDD084V01_FC.mat', '/Volumes/QCI/NormativeModel/Results/Result_GrayVol246_HBR_HCMDD_1228/StaResults/Gradient/subtype2_246FC/sub-MDD085_FC.mat', '/Volumes/QCI/NormativeModel/Results/Result_GrayVol246_HBR_HCMDD_1228/StaResults/Gradient/subtype2_246FC/sub-MDD085V01_FC.mat', '/Volumes/QCI/NormativeModel/Results/Result_GrayVol246_HBR_HCMDD_1228/StaResults/Gradient/subtype2_246FC/sub-MDD086_FC.mat', '/Volumes/QCI/NormativeModel/Results/Result_GrayVol246_HBR_HCMDD_1228/StaResults/Gradient/subtype2_246FC/sub-MDD087V01_FC.mat', '/Volumes/QCI/NormativeModel/Results/Result_GrayVol246_HBR_HCMDD_1228/StaResults/Gradient/subtype2_246FC/sub-MDD088V01_FC.mat', '/Volumes/QCI/NormativeModel/Results/Result_GrayVol246_HBR_HCMDD_1228/StaResults/Gradient/subtype2_246FC/sub-MDD090V01_FC.mat', '/Volumes/QCI/NormativeModel/Results/Result_GrayVol246_HBR_HCMDD_1228/StaResults/Gradient/subtype2_246FC/sub-MDD091_FC.mat', '/Volumes/QCI/NormativeModel/Results/Result_GrayVol246_HBR_HCMDD_1228/StaResults/Gradient/subtype2_246FC/sub-MDD095_FC.mat', '/Volumes/QCI/NormativeModel/Results/Result_GrayVol246_HBR_HCMDD_1228/StaResults/Gradient/subtype2_246FC/sub-MDD095V01_FC.mat', '/Volumes/QCI/NormativeModel/Results/Result_GrayVol246_HBR_HCMDD_1228/StaResults/Gradient/subtype2_246FC/sub-MDD096V01_FC.mat', '/Volumes/QCI/NormativeModel/Results/Result_GrayVol246_HBR_HCMDD_1228/StaResults/Gradient/subtype2_246FC/sub-MDD097V01_FC.mat', '/Volumes/QCI/NormativeModel/Results/Result_GrayVol246_HBR_HCMDD_1228/StaResults/Gradient/subtype2_246FC/sub-MDD098V01_FC.mat', '/Volumes/QCI/NormativeModel/Results/Result_GrayVol246_HBR_HCMDD_1228/StaResults/Gradient/subtype2_246FC/sub-MDD099_FC.mat', '/Volumes/QCI/NormativeModel/Results/Result_GrayVol246_HBR_HCMDD_1228/StaResults/Gradient/subtype2_246FC/sub-MDD100_FC.mat', '/Volumes/QCI/NormativeModel/Results/Result_GrayVol246_HBR_HCMDD_1228/StaResults/Gradient/subtype2_246FC/sub-MDD101_FC.mat', '/Volumes/QCI/NormativeModel/Results/Result_GrayVol246_HBR_HCMDD_1228/StaResults/Gradient/subtype2_246FC/sub-MDD101V01_FC.mat', '/Volumes/QCI/NormativeModel/Results/Result_GrayVol246_HBR_HCMDD_1228/StaResults/Gradient/subtype2_246FC/sub-MDD105V01_FC.mat', '/Volumes/QCI/NormativeModel/Results/Result_GrayVol246_HBR_HCMDD_1228/StaResults/Gradient/subtype2_246FC/sub-MDD110_FC.mat', '/Volumes/QCI/NormativeModel/Results/Result_GrayVol246_HBR_HCMDD_1228/StaResults/Gradient/subtype2_246FC/sub-MDD111_FC.mat', '/Volumes/QCI/NormativeModel/Results/Result_GrayVol246_HBR_HCMDD_1228/StaResults/Gradient/subtype2_246FC/sub-MDD112V01_FC.mat', '/Volumes/QCI/NormativeModel/Results/Result_GrayVol246_HBR_HCMDD_1228/StaResults/Gradient/subtype2_246FC/sub-MDD115V01_FC.mat', '/Volumes/QCI/NormativeModel/Results/Result_GrayVol246_HBR_HCMDD_1228/StaResults/Gradient/subtype2_246FC/sub-MDD117V01_FC.mat', '/Volumes/QCI/NormativeModel/Results/Result_GrayVol246_HBR_HCMDD_1228/StaResults/Gradient/subtype2_246FC/sub-MDD119_FC.mat', '/Volumes/QCI/NormativeModel/Results/Result_GrayVol246_HBR_HCMDD_1228/StaResults/Gradient/subtype2_246FC/sub-MDD121_FC.mat', '/Volumes/QCI/NormativeModel/Results/Result_GrayVol246_HBR_HCMDD_1228/StaResults/Gradient/subtype2_246FC/sub-MDD122V01_FC.mat', '/Volumes/QCI/NormativeModel/Results/Result_GrayVol246_HBR_HCMDD_1228/StaResults/Gradient/subtype2_246FC/sub-MDD128V01_FC.mat', '/Volumes/QCI/NormativeModel/Results/Result_GrayVol246_HBR_HCMDD_1228/StaResults/Gradient/subtype2_246FC/sub-MDD129_FC.mat', '/Volumes/QCI/NormativeModel/Results/Result_GrayVol246_HBR_HCMDD_1228/StaResults/Gradient/subtype2_246FC/sub-MDD130V01_FC.mat', '/Volumes/QCI/NormativeModel/Results/Result_GrayVol246_HBR_HCMDD_1228/StaResults/Gradient/subtype2_246FC/sub-MDD131_FC.mat', '/Volumes/QCI/NormativeModel/Results/Result_GrayVol246_HBR_HCMDD_1228/StaResults/Gradient/subtype2_246FC/sub-MDD133_FC.mat', '/Volumes/QCI/NormativeModel/Results/Result_GrayVol246_HBR_HCMDD_1228/StaResults/Gradient/subtype2_246FC/sub-MDD133V01_FC.mat', '/Volumes/QCI/NormativeModel/Results/Result_GrayVol246_HBR_HCMDD_1228/StaResults/Gradient/subtype2_246FC/sub-MDD134_FC.mat', '/Volumes/QCI/NormativeModel/Results/Result_GrayVol246_HBR_HCMDD_1228/StaResults/Gradient/subtype2_246FC/sub-MDD136V01_FC.mat', '/Volumes/QCI/NormativeModel/Results/Result_GrayVol246_HBR_HCMDD_1228/StaResults/Gradient/subtype2_246FC/sub-MDD137_FC.mat', '/Volumes/QCI/NormativeModel/Results/Result_GrayVol246_HBR_HCMDD_1228/StaResults/Gradient/subtype2_246FC/sub-MDD138_FC.mat', '/Volumes/QCI/NormativeModel/Results/Result_GrayVol246_HBR_HCMDD_1228/StaResults/Gradient/subtype2_246FC/sub-MDD138V01_FC.mat', '/Volumes/QCI/NormativeModel/Results/Result_GrayVol246_HBR_HCMDD_1228/StaResults/Gradient/subtype2_246FC/sub-MDD139_FC.mat', '/Volumes/QCI/NormativeModel/Results/Result_GrayVol246_HBR_HCMDD_1228/StaResults/Gradient/subtype2_246FC/sub-MDD141V01_FC.mat']\n"
     ]
    }
   ],
   "source": [
    "path = '/Volumes/QCI/NormativeModel/Results/Result_GrayVol246_HBR_HCMDD_1228/StaResults/Gradient/subtype2_246FC/sub-*'\n",
    "\n",
    "dataList = glob.glob(path)\n",
    "print(dataList)\n",
    "databox = []\n",
    "box = np.zeros([246, 246])"
   ],
   "metadata": {
    "collapsed": false,
    "ExecuteTime": {
     "end_time": "2025-01-02T07:16:04.293866Z",
     "start_time": "2025-01-02T07:16:04.285766Z"
    }
   }
  },
  {
   "cell_type": "code",
   "execution_count": 62,
   "outputs": [
    {
     "name": "stderr",
     "output_type": "stream",
     "text": [
      "/var/folders/dh/dmftg40j21j249nqf2z5v2nh0000gn/T/ipykernel_41884/3110954185.py:3: RuntimeWarning: divide by zero encountered in arctanh\n",
      "  fizFC = np.arctanh(data)\n"
     ]
    },
    {
     "name": "stdout",
     "output_type": "stream",
     "text": [
      "[[         inf 293.56003255 106.44370591 ...  51.49748764  84.43588005\n",
      "   56.34230751]\n",
      " [293.56003255          inf -36.0951099  ... 101.05914522  99.36361524\n",
      "  123.98194755]\n",
      " [106.44370591 -36.0951099           inf ...  47.90767596  24.99061599\n",
      "  -11.53588745]\n",
      " ...\n",
      " [ 51.49748764 101.05914522  47.90767596 ...          inf 190.11304883\n",
      "  300.21266076]\n",
      " [ 84.43588005  99.36361524  24.99061599 ... 190.11304883          inf\n",
      "  372.492117  ]\n",
      " [ 56.34230751 123.98194755 -11.53588745 ... 300.21266076 372.492117\n",
      "           inf]]\n"
     ]
    }
   ],
   "source": [
    "for i in dataList:\n",
    "    data = scio.loadmat(i)['data']\n",
    "    fizFC = np.arctanh(data)\n",
    "    box = np.add(box, fizFC)\n",
    "\n",
    "mfizFC = box / len(dataList)\n",
    "mFC = np.tanh(mfizFC)\n"
   ],
   "metadata": {
    "collapsed": false,
    "ExecuteTime": {
     "end_time": "2025-01-02T07:20:08.864294Z",
     "start_time": "2025-01-02T07:20:08.431508Z"
    }
   }
  },
  {
   "cell_type": "code",
   "execution_count": 59,
   "outputs": [],
   "source": [
    "gp = GradientMaps(kernel='normalized_angle', approach='dm', alignment='procrustes', n_components=2,random_state=None)\n",
    "#gp.fit(mFC,reference=ref['data'])\n",
    "gp.fit(mFC)\n",
    "res = gp.gradients_\n",
    "\n",
    "savemat('/Volumes/QCI/NormativeModel/Results/Result_GrayVol246_HBR_HCMDD_1228/StaResults/Gradient/subtype2_GroupGradient.mat', {'data': res})\n",
    "\n"
   ],
   "metadata": {
    "collapsed": false,
    "ExecuteTime": {
     "end_time": "2025-01-02T07:16:07.683302Z",
     "start_time": "2025-01-02T07:16:07.632733Z"
    }
   }
  },
  {
   "cell_type": "code",
   "execution_count": 60,
   "outputs": [
    {
     "name": "stdout",
     "output_type": "stream",
     "text": [
      "(1, 59412)\n",
      "(246,)\n",
      "Mapped data shape: (1, 59412)\n"
     ]
    }
   ],
   "source": [
    "import nibabel as nib\n",
    "\n",
    "template_path = '/Users/qingchen/Documents/Data/template/BrainnetomeAtlas/BN_Atlas_freesurfer/fsaverage/fsaverage_LR32k/fsaverage.BN_Atlas.32k_fs_LR.dlabel.nii'\n",
    "template = template_path\n",
    "template = nib.load(template)\n",
    "label=template.get_fdata()\n",
    "label[label > 210] -= 210\n",
    "print(label.shape)\n",
    "\n",
    "res = res[:,0]\n",
    "print(res.shape)\n",
    "\n",
    "# 创建一个新的数组用于存储映射值\n",
    "mapped_data = np.zeros_like(label)\n",
    "\n",
    "\n",
    "for i in range(1, 211):\n",
    "    index = np.where(label == i)\n",
    "\n",
    "    mapped_data[index] = res[i - 1]\n",
    "\n",
    "# 检查映射后的数据形状\n",
    "print(\"Mapped data shape:\", mapped_data.shape)\n",
    "\n",
    "# 创建 dscalar.nii 文件\n",
    "scalar_axis = nib.cifti2.cifti2_axes.ScalarAxis(['gp'])\n",
    "brain_model_axis = template.header.get_axis(1)\n",
    "scalar_header = nib.cifti2.Cifti2Header.from_axes((scalar_axis, brain_model_axis))\n",
    "scalar_img = nib.Cifti2Image(mapped_data, header=scalar_header)\n",
    "scalar_img.to_filename('/Volumes/QCI/NormativeModel/Results/Result_GrayVol246_HBR_HCMDD_1228/StaResults/Gradient/subtype2_GroupGradient1.dscalar.nii')\n",
    "\n"
   ],
   "metadata": {
    "collapsed": false,
    "ExecuteTime": {
     "end_time": "2025-01-02T07:16:09.441108Z",
     "start_time": "2025-01-02T07:16:09.095981Z"
    }
   }
  },
  {
   "cell_type": "code",
   "execution_count": 47,
   "outputs": [
    {
     "data": {
      "text/plain": "<Figure size 500x400 with 1 Axes>",
      "image/png": "[encoded data removed]"
     },
     "metadata": {},
     "output_type": "display_data"
    }
   ],
   "source": [
    "\n",
    "fig, ax = plt.subplots(1, figsize=(5, 4))\n",
    "ax.scatter(range(gp.lambdas_.size), gp.lambdas_)\n",
    "ax.set_xlabel('Component Nb')\n",
    "ax.set_ylabel('Eigenvalue')\n",
    "\n",
    "plt.show()"
   ],
   "metadata": {
    "collapsed": false,
    "ExecuteTime": {
     "end_time": "2025-01-02T07:14:56.338002Z",
     "start_time": "2025-01-02T07:14:56.284370Z"
    }
   }
  }
 ],
 "metadata": {
  "kernelspec": {
   "display_name": "Python 3",
   "language": "python",
   "name": "python3"
  },
  "language_info": {
   "codemirror_mode": {
    "name": "ipython",
    "version": 2
   },
   "file_extension": ".py",
   "mimetype": "text/x-python",
   "name": "python",
   "nbconvert_exporter": "python",
   "pygments_lexer": "ipython2",
   "version": "2.7.6"
  }
 },
 "nbformat": 4,
 "nbformat_minor": 0
}
