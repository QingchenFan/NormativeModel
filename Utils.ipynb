{
 "cells": [
  {
   "cell_type": "code",
   "execution_count": 61,
   "metadata": {
    "collapsed": true,
    "ExecuteTime": {
     "end_time": "2024-12-30T06:50:54.666269Z",
     "start_time": "2024-12-30T06:50:54.662757Z"
    }
   },
   "outputs": [],
   "source": [
    "import glob\n",
    "import os.path\n",
    "\n",
    "import pandas as pd\n",
    "import numpy as np\n",
    "from scipy.io import savemat"
   ]
  },
  {
   "cell_type": "markdown",
   "source": [
    "# 合并数据 供 PLS使用"
   ],
   "metadata": {
    "collapsed": false
   }
  },
  {
   "cell_type": "code",
   "execution_count": 5,
   "outputs": [
    {
     "ename": "FileNotFoundError",
     "evalue": "[Errno 2] No such file or directory: '/Users/qingchen/Documents/Data/zhouLabData/Fan_DaraClearn/BrainProject/Import_data/PD_NP_4EPQ.csv'",
     "output_type": "error",
     "traceback": [
      "\u001B[0;31m---------------------------------------------------------------------------\u001B[0m",
      "\u001B[0;31mFileNotFoundError\u001B[0m                         Traceback (most recent call last)",
      "Cell \u001B[0;32mIn[5], line 11\u001B[0m\n\u001B[1;32m      6\u001B[0m file_1 \u001B[38;5;241m=\u001B[39m \u001B[38;5;124m'\u001B[39m\u001B[38;5;124m/Users/qingchen/Documents/Data/zhouLabData/Fan_DaraClearn/BrainProject/Import_data/PD_NP_\u001B[39m\u001B[38;5;124m'\u001B[39m\u001B[38;5;241m+\u001B[39mmark\u001B[38;5;241m+\u001B[39m\u001B[38;5;124m'\u001B[39m\u001B[38;5;124m.csv\u001B[39m\u001B[38;5;124m'\u001B[39m\n\u001B[1;32m     10\u001B[0m \u001B[38;5;66;03m# Read the CSV files into DataFrames\u001B[39;00m\n\u001B[0;32m---> 11\u001B[0m df1 \u001B[38;5;241m=\u001B[39m pd\u001B[38;5;241m.\u001B[39mread_csv(file_1)\n\u001B[1;32m     12\u001B[0m df2 \u001B[38;5;241m=\u001B[39m pd\u001B[38;5;241m.\u001B[39mread_csv(file_2)\n\u001B[1;32m     14\u001B[0m df_new \u001B[38;5;241m=\u001B[39m pd\u001B[38;5;241m.\u001B[39mmerge(df2, df1, on\u001B[38;5;241m=\u001B[39m\u001B[38;5;124m'\u001B[39m\u001B[38;5;124msubID\u001B[39m\u001B[38;5;124m'\u001B[39m, how\u001B[38;5;241m=\u001B[39m\u001B[38;5;124m'\u001B[39m\u001B[38;5;124minner\u001B[39m\u001B[38;5;124m'\u001B[39m)\n",
      "File \u001B[0;32m/opt/anaconda3/lib/python3.12/site-packages/pandas/io/parsers/readers.py:1026\u001B[0m, in \u001B[0;36mread_csv\u001B[0;34m(filepath_or_buffer, sep, delimiter, header, names, index_col, usecols, dtype, engine, converters, true_values, false_values, skipinitialspace, skiprows, skipfooter, nrows, na_values, keep_default_na, na_filter, verbose, skip_blank_lines, parse_dates, infer_datetime_format, keep_date_col, date_parser, date_format, dayfirst, cache_dates, iterator, chunksize, compression, thousands, decimal, lineterminator, quotechar, quoting, doublequote, escapechar, comment, encoding, encoding_errors, dialect, on_bad_lines, delim_whitespace, low_memory, memory_map, float_precision, storage_options, dtype_backend)\u001B[0m\n\u001B[1;32m   1013\u001B[0m kwds_defaults \u001B[38;5;241m=\u001B[39m _refine_defaults_read(\n\u001B[1;32m   1014\u001B[0m     dialect,\n\u001B[1;32m   1015\u001B[0m     delimiter,\n\u001B[0;32m   (...)\u001B[0m\n\u001B[1;32m   1022\u001B[0m     dtype_backend\u001B[38;5;241m=\u001B[39mdtype_backend,\n\u001B[1;32m   1023\u001B[0m )\n\u001B[1;32m   1024\u001B[0m kwds\u001B[38;5;241m.\u001B[39mupdate(kwds_defaults)\n\u001B[0;32m-> 1026\u001B[0m \u001B[38;5;28;01mreturn\u001B[39;00m _read(filepath_or_buffer, kwds)\n",
      "File \u001B[0;32m/opt/anaconda3/lib/python3.12/site-packages/pandas/io/parsers/readers.py:620\u001B[0m, in \u001B[0;36m_read\u001B[0;34m(filepath_or_buffer, kwds)\u001B[0m\n\u001B[1;32m    617\u001B[0m _validate_names(kwds\u001B[38;5;241m.\u001B[39mget(\u001B[38;5;124m\"\u001B[39m\u001B[38;5;124mnames\u001B[39m\u001B[38;5;124m\"\u001B[39m, \u001B[38;5;28;01mNone\u001B[39;00m))\n\u001B[1;32m    619\u001B[0m \u001B[38;5;66;03m# Create the parser.\u001B[39;00m\n\u001B[0;32m--> 620\u001B[0m parser \u001B[38;5;241m=\u001B[39m TextFileReader(filepath_or_buffer, \u001B[38;5;241m*\u001B[39m\u001B[38;5;241m*\u001B[39mkwds)\n\u001B[1;32m    622\u001B[0m \u001B[38;5;28;01mif\u001B[39;00m chunksize \u001B[38;5;129;01mor\u001B[39;00m iterator:\n\u001B[1;32m    623\u001B[0m     \u001B[38;5;28;01mreturn\u001B[39;00m parser\n",
      "File \u001B[0;32m/opt/anaconda3/lib/python3.12/site-packages/pandas/io/parsers/readers.py:1620\u001B[0m, in \u001B[0;36mTextFileReader.__init__\u001B[0;34m(self, f, engine, **kwds)\u001B[0m\n\u001B[1;32m   1617\u001B[0m     \u001B[38;5;28mself\u001B[39m\u001B[38;5;241m.\u001B[39moptions[\u001B[38;5;124m\"\u001B[39m\u001B[38;5;124mhas_index_names\u001B[39m\u001B[38;5;124m\"\u001B[39m] \u001B[38;5;241m=\u001B[39m kwds[\u001B[38;5;124m\"\u001B[39m\u001B[38;5;124mhas_index_names\u001B[39m\u001B[38;5;124m\"\u001B[39m]\n\u001B[1;32m   1619\u001B[0m \u001B[38;5;28mself\u001B[39m\u001B[38;5;241m.\u001B[39mhandles: IOHandles \u001B[38;5;241m|\u001B[39m \u001B[38;5;28;01mNone\u001B[39;00m \u001B[38;5;241m=\u001B[39m \u001B[38;5;28;01mNone\u001B[39;00m\n\u001B[0;32m-> 1620\u001B[0m \u001B[38;5;28mself\u001B[39m\u001B[38;5;241m.\u001B[39m_engine \u001B[38;5;241m=\u001B[39m \u001B[38;5;28mself\u001B[39m\u001B[38;5;241m.\u001B[39m_make_engine(f, \u001B[38;5;28mself\u001B[39m\u001B[38;5;241m.\u001B[39mengine)\n",
      "File \u001B[0;32m/opt/anaconda3/lib/python3.12/site-packages/pandas/io/parsers/readers.py:1880\u001B[0m, in \u001B[0;36mTextFileReader._make_engine\u001B[0;34m(self, f, engine)\u001B[0m\n\u001B[1;32m   1878\u001B[0m     \u001B[38;5;28;01mif\u001B[39;00m \u001B[38;5;124m\"\u001B[39m\u001B[38;5;124mb\u001B[39m\u001B[38;5;124m\"\u001B[39m \u001B[38;5;129;01mnot\u001B[39;00m \u001B[38;5;129;01min\u001B[39;00m mode:\n\u001B[1;32m   1879\u001B[0m         mode \u001B[38;5;241m+\u001B[39m\u001B[38;5;241m=\u001B[39m \u001B[38;5;124m\"\u001B[39m\u001B[38;5;124mb\u001B[39m\u001B[38;5;124m\"\u001B[39m\n\u001B[0;32m-> 1880\u001B[0m \u001B[38;5;28mself\u001B[39m\u001B[38;5;241m.\u001B[39mhandles \u001B[38;5;241m=\u001B[39m get_handle(\n\u001B[1;32m   1881\u001B[0m     f,\n\u001B[1;32m   1882\u001B[0m     mode,\n\u001B[1;32m   1883\u001B[0m     encoding\u001B[38;5;241m=\u001B[39m\u001B[38;5;28mself\u001B[39m\u001B[38;5;241m.\u001B[39moptions\u001B[38;5;241m.\u001B[39mget(\u001B[38;5;124m\"\u001B[39m\u001B[38;5;124mencoding\u001B[39m\u001B[38;5;124m\"\u001B[39m, \u001B[38;5;28;01mNone\u001B[39;00m),\n\u001B[1;32m   1884\u001B[0m     compression\u001B[38;5;241m=\u001B[39m\u001B[38;5;28mself\u001B[39m\u001B[38;5;241m.\u001B[39moptions\u001B[38;5;241m.\u001B[39mget(\u001B[38;5;124m\"\u001B[39m\u001B[38;5;124mcompression\u001B[39m\u001B[38;5;124m\"\u001B[39m, \u001B[38;5;28;01mNone\u001B[39;00m),\n\u001B[1;32m   1885\u001B[0m     memory_map\u001B[38;5;241m=\u001B[39m\u001B[38;5;28mself\u001B[39m\u001B[38;5;241m.\u001B[39moptions\u001B[38;5;241m.\u001B[39mget(\u001B[38;5;124m\"\u001B[39m\u001B[38;5;124mmemory_map\u001B[39m\u001B[38;5;124m\"\u001B[39m, \u001B[38;5;28;01mFalse\u001B[39;00m),\n\u001B[1;32m   1886\u001B[0m     is_text\u001B[38;5;241m=\u001B[39mis_text,\n\u001B[1;32m   1887\u001B[0m     errors\u001B[38;5;241m=\u001B[39m\u001B[38;5;28mself\u001B[39m\u001B[38;5;241m.\u001B[39moptions\u001B[38;5;241m.\u001B[39mget(\u001B[38;5;124m\"\u001B[39m\u001B[38;5;124mencoding_errors\u001B[39m\u001B[38;5;124m\"\u001B[39m, \u001B[38;5;124m\"\u001B[39m\u001B[38;5;124mstrict\u001B[39m\u001B[38;5;124m\"\u001B[39m),\n\u001B[1;32m   1888\u001B[0m     storage_options\u001B[38;5;241m=\u001B[39m\u001B[38;5;28mself\u001B[39m\u001B[38;5;241m.\u001B[39moptions\u001B[38;5;241m.\u001B[39mget(\u001B[38;5;124m\"\u001B[39m\u001B[38;5;124mstorage_options\u001B[39m\u001B[38;5;124m\"\u001B[39m, \u001B[38;5;28;01mNone\u001B[39;00m),\n\u001B[1;32m   1889\u001B[0m )\n\u001B[1;32m   1890\u001B[0m \u001B[38;5;28;01massert\u001B[39;00m \u001B[38;5;28mself\u001B[39m\u001B[38;5;241m.\u001B[39mhandles \u001B[38;5;129;01mis\u001B[39;00m \u001B[38;5;129;01mnot\u001B[39;00m \u001B[38;5;28;01mNone\u001B[39;00m\n\u001B[1;32m   1891\u001B[0m f \u001B[38;5;241m=\u001B[39m \u001B[38;5;28mself\u001B[39m\u001B[38;5;241m.\u001B[39mhandles\u001B[38;5;241m.\u001B[39mhandle\n",
      "File \u001B[0;32m/opt/anaconda3/lib/python3.12/site-packages/pandas/io/common.py:873\u001B[0m, in \u001B[0;36mget_handle\u001B[0;34m(path_or_buf, mode, encoding, compression, memory_map, is_text, errors, storage_options)\u001B[0m\n\u001B[1;32m    868\u001B[0m \u001B[38;5;28;01melif\u001B[39;00m \u001B[38;5;28misinstance\u001B[39m(handle, \u001B[38;5;28mstr\u001B[39m):\n\u001B[1;32m    869\u001B[0m     \u001B[38;5;66;03m# Check whether the filename is to be opened in binary mode.\u001B[39;00m\n\u001B[1;32m    870\u001B[0m     \u001B[38;5;66;03m# Binary mode does not support 'encoding' and 'newline'.\u001B[39;00m\n\u001B[1;32m    871\u001B[0m     \u001B[38;5;28;01mif\u001B[39;00m ioargs\u001B[38;5;241m.\u001B[39mencoding \u001B[38;5;129;01mand\u001B[39;00m \u001B[38;5;124m\"\u001B[39m\u001B[38;5;124mb\u001B[39m\u001B[38;5;124m\"\u001B[39m \u001B[38;5;129;01mnot\u001B[39;00m \u001B[38;5;129;01min\u001B[39;00m ioargs\u001B[38;5;241m.\u001B[39mmode:\n\u001B[1;32m    872\u001B[0m         \u001B[38;5;66;03m# Encoding\u001B[39;00m\n\u001B[0;32m--> 873\u001B[0m         handle \u001B[38;5;241m=\u001B[39m \u001B[38;5;28mopen\u001B[39m(\n\u001B[1;32m    874\u001B[0m             handle,\n\u001B[1;32m    875\u001B[0m             ioargs\u001B[38;5;241m.\u001B[39mmode,\n\u001B[1;32m    876\u001B[0m             encoding\u001B[38;5;241m=\u001B[39mioargs\u001B[38;5;241m.\u001B[39mencoding,\n\u001B[1;32m    877\u001B[0m             errors\u001B[38;5;241m=\u001B[39merrors,\n\u001B[1;32m    878\u001B[0m             newline\u001B[38;5;241m=\u001B[39m\u001B[38;5;124m\"\u001B[39m\u001B[38;5;124m\"\u001B[39m,\n\u001B[1;32m    879\u001B[0m         )\n\u001B[1;32m    880\u001B[0m     \u001B[38;5;28;01melse\u001B[39;00m:\n\u001B[1;32m    881\u001B[0m         \u001B[38;5;66;03m# Binary mode\u001B[39;00m\n\u001B[1;32m    882\u001B[0m         handle \u001B[38;5;241m=\u001B[39m \u001B[38;5;28mopen\u001B[39m(handle, ioargs\u001B[38;5;241m.\u001B[39mmode)\n",
      "\u001B[0;31mFileNotFoundError\u001B[0m: [Errno 2] No such file or directory: '/Users/qingchen/Documents/Data/zhouLabData/Fan_DaraClearn/BrainProject/Import_data/PD_NP_4EPQ.csv'"
     ]
    }
   ],
   "source": [
    "mark = '4EPQ'\n",
    "type = 'subtype1'\n",
    "# 需要对 step2_group_subtype1 step2_group_subtype2 subID进行处理\n",
    "# 读取两个CSV文件\n",
    "file_2 = '/Volumes/QCI/NormativeModel/Results/Result_GrayVol246_HBR_HCMDD_1129/StaResults/'+type+'_Zvalue.csv'\n",
    "file_1 = '/Users/qingchen/Documents/Data/zhouLabData/Fan_DaraClearn/BrainProject/Import_data/PD_NP_'+mark+'.csv'\n",
    "\n",
    "\n",
    "\n",
    "# Read the CSV files into DataFrames\n",
    "df1 = pd.read_csv(file_1)\n",
    "df2 = pd.read_csv(file_2)\n",
    "\n",
    "df_new = pd.merge(df2, df1, on='subID', how='inner')\n",
    "\n",
    "# df_new.to_csv('/Volumes/QCI/NormativeModel/Results/Result_GrayVol246_HBR_HCMDD_1129/StaResults/PLS/'+type+'_Zvalue_'+mark+'.csv', index=False)\n",
    "print(df_new)\n",
    "data = np.array(df_new.iloc[:, 1:])\n",
    "print(data.shape)\n",
    "# savemat('/Volumes/QCI/NormativeModel/Results/Result_GrayVol246_HBR_HCMDD_1129/StaResults/PLS/'+type+'_Zvalue_'+mark+'.mat', {'s1': data})\n",
    "#-------------------------------------------"
   ],
   "metadata": {
    "collapsed": false,
    "ExecuteTime": {
     "end_time": "2024-12-19T07:11:12.252641Z",
     "start_time": "2024-12-19T07:11:11.732636Z"
    }
   }
  },
  {
   "cell_type": "markdown",
   "source": [
    "# 找 CSV中的空值"
   ],
   "metadata": {
    "collapsed": false
   }
  },
  {
   "cell_type": "code",
   "execution_count": 6,
   "outputs": [
    {
     "name": "stdout",
     "output_type": "stream",
     "text": [
      "未发现空值\n"
     ]
    }
   ],
   "source": [
    "import pandas as pd\n",
    "\n",
    "import csv\n",
    "\n",
    "\n",
    "def check_null_values_in_csv(file_path):\n",
    "    null_positions = []\n",
    "    with open(file_path, 'r', encoding='utf-8') as csvfile:\n",
    "        reader = csv.reader(csvfile)\n",
    "        header = next(reader)  # 读取表头\n",
    "        for row_index, row in enumerate(reader, start=1):  # 从第一行数据开始遍历，索引从1开始（对应实际行数）\n",
    "            for col_index, cell in enumerate(row):\n",
    "                if cell.strip() == \"\":  # 判断单元格去除空白字符后是否为空\n",
    "                    null_positions.append((row_index, col_index))\n",
    "    return null_positions\n",
    "\n",
    "\n",
    "# 读取CSV文件\n",
    "file_path = '/Volumes/QCI/NormativeModel/Results/Result_GrayVol246_HBR_HCMDD_1129/StaResults/ClinicalInfo/Allscale.csv'  # 假设CSV文件路径为subtype1_HAMD_explCovLC.csv\n",
    "df = pd.read_csv(file_path, header=None)\n",
    "\n",
    "# 使用示例\n",
    "#file_path = \"your_file.csv\"  # 替换为实际的CSV文件路径\n",
    "result = check_null_values_in_csv(file_path)\n",
    "if result:\n",
    "    print(\"发现空值，位置如下：\")\n",
    "    for pos in result:\n",
    "        print(f\"行：{pos[0]}，列：{pos[1]}\")\n",
    "else:\n",
    "    print(\"未发现空值\")"
   ],
   "metadata": {
    "collapsed": false,
    "ExecuteTime": {
     "end_time": "2024-12-19T07:12:18.274974Z",
     "start_time": "2024-12-19T07:12:18.264164Z"
    }
   }
  },
  {
   "cell_type": "markdown",
   "source": [
    "# 多表合并"
   ],
   "metadata": {
    "collapsed": false
   }
  },
  {
   "cell_type": "code",
   "execution_count": null,
   "outputs": [],
   "source": [
    "import pandas as pd\n",
    "\n",
    "\n",
    "file_paths = glob.glob(\"/Volumes/QCI/NormativeModel/Results/Result_GrayVol246_HBR_HCMDD_1129/StaResults/ClinicalInfo/BP*.csv\")\n",
    "file_paths = []\n",
    "file_paths.append('/Users/qingchen/Documents/Data/zhouLabData/Fan_DaraClearn/BrainProject/Import_data/PD_NP_Baseline/label.csv')\n",
    "\n",
    "file_paths.append('/Users/qingchen/Documents/Data/zhouLabData/Fan_DaraClearn/BrainProject/Import_data/PD_NP_Baseline/PD_NP_HAMD17.csv')\n",
    "file_paths.append('/Users/qingchen/Documents/Data/zhouLabData/Fan_DaraClearn/BrainProject/Import_data/PD_NP_Baseline/PD_NP_HAMA.csv')\n",
    "file_paths.append('/Users/qingchen/Documents/Data/zhouLabData/Fan_DaraClearn/BrainProject/Import_data/PD_NP_Baseline/PD_NP_GAD.csv')\n",
    "# 读取第一个文件作为基准表格\n",
    "df_merged = pd.read_csv(file_paths[0])\n",
    "\n",
    "# 从第二个文件开始，逐一合并\n",
    "for file_path in file_paths[1:]:\n",
    "    df = pd.read_csv(file_path)\n",
    "    # 根据 'subID' 合并数据，on='subID' 表示基于 'subID' 列合并\n",
    "    df_merged = pd.merge(df_merged, df, on='subID', how='outer')  # 使用 outer 合并保留所有 subID\n",
    "\n",
    "# 显示合并后的数据框\n",
    "print(df_merged)\n",
    "\n",
    "# 如果你想将合并后的表格保存为新的 CSV 文件：\n",
    "df_merged.to_csv('./merged_data.csv', index=False)"
   ],
   "metadata": {
    "collapsed": false
   }
  },
  {
   "cell_type": "code",
   "execution_count": null,
   "outputs": [],
   "source": [
    "file_2 = '/Volumes/QCI/NormativeModel/Results/Result_GrayVol246_HBR_HCMDD_1129/StaResults/subtype1_Zvalue.csv'\n",
    "file_1 = '/Volumes/QCI/NormativeModel/Results/Result_GrayVol246_HBR_HCMDD_1129/StaResults/AllDataMDD_AllItermHAMD.csv'\n",
    "\n",
    "\n",
    "#Read the CSV files into DataFrames\n",
    "df1 = pd.read_csv(file_1)\n",
    "df2 = pd.read_csv(file_2)\n",
    "\n",
    "df_new = pd.merge(df2, df1, on='subID', how='inner')\n",
    "df_new.to_csv('./subtype1_ZvalueHAMD.csv', index=False)\n",
    "data = np.array(df_new.iloc[:, 1:])\n",
    "savemat('./subtype1_ZvalueHAMD.mat', {'s1': data})\n",
    "df_new.read_csv('/Volumes/QCI/NormativeModel/Results/Result_GrayVol246_HBR_HCMDD_1129/StaResults/subtype1_ZvalueHAMD.csv', index=False)\n",
    "print(df_new)\n",
    "data = np.array(df_new.iloc[:, 1:])\n",
    "print(data.shape)\n",
    "savemat('./subtype1_ZvalueHAMD.mat', {'s1': data})"
   ],
   "metadata": {
    "collapsed": false
   }
  },
  {
   "cell_type": "code",
   "execution_count": 102,
   "outputs": [
    {
     "name": "stdout",
     "output_type": "stream",
     "text": [
      "              subID     A8m_R    A8dl_R     A9l_R    A6dl_R     A6m_R  \\\n",
      "0    sub-1000013V01 -0.082935  0.559966  0.138968  0.415138 -0.563796   \n",
      "1    sub-1000025V01 -0.313312  0.035748  0.240039 -0.253306  0.175633   \n",
      "2    sub-1000034V01 -0.937493 -0.318220  0.033820 -0.275509 -1.360044   \n",
      "3    sub-1000036V01  1.125561 -0.274003 -0.126661  0.742372  0.022863   \n",
      "4    sub-1000037V01 -0.036665  0.344557  0.673921 -0.576997 -0.666629   \n",
      "..              ...       ...       ...       ...       ...       ...   \n",
      "227   sub-MDD135V01 -1.639936 -0.951291 -1.475780 -1.281846 -0.519949   \n",
      "228      sub-MDD136 -0.546589 -0.287007 -0.872637 -0.266410  0.486969   \n",
      "229   sub-MDD137V01  0.910761 -0.077416  0.233956 -1.445707  0.942187   \n",
      "230   sub-MDD139V01 -0.065604  0.839316 -0.437408  1.088513  0.071330   \n",
      "231   sub-MDD142V01 -0.990799 -0.864392 -0.972028 -0.294783 -0.977209   \n",
      "\n",
      "        A9m_R    A10m_R     46d_R     IFJ_R  ...  HAMD13  HAMD14  HAMD15  \\\n",
      "0    0.080884  0.103094 -0.447737  0.132838  ...       2       2       0   \n",
      "1   -0.233484  0.504235 -0.796752 -1.107028  ...       1       0       0   \n",
      "2    0.376749  0.362436 -0.792113  0.812598  ...       1       0       0   \n",
      "3    1.103969  1.042516 -0.006671  1.372919  ...       1       1       0   \n",
      "4    0.046848  1.416810  0.193267 -0.051950  ...       1       2       2   \n",
      "..        ...       ...       ...       ...  ...     ...     ...     ...   \n",
      "227 -2.694738 -1.932766 -0.634816 -0.014869  ...       1       0       0   \n",
      "228  0.077267 -0.716296 -0.702330 -1.292622  ...       0       2       0   \n",
      "229 -0.487876 -0.183456 -0.339278 -0.991223  ...       1       2       0   \n",
      "230 -0.381125 -1.121917  0.510804  0.800043  ...       1       0       0   \n",
      "231 -1.624151 -0.768855 -1.029144 -1.150242  ...       2       2       2   \n",
      "\n",
      "     HAMD16  HAMD17  f1  f2  f3  f4  f5  \n",
      "0         2       1   5   2   6  10   1  \n",
      "1         0       0   6   0   6   7   5  \n",
      "2         0       0   5   0   6   5   3  \n",
      "3         0       0   5   0   7   7   4  \n",
      "4         0       0   7   0   5   8   2  \n",
      "..      ...     ...  ..  ..  ..  ..  ..  \n",
      "227       0       1   6   0   6   6   4  \n",
      "228       0       0   5   0   4   7   4  \n",
      "229       0       0   5   0   6   9   3  \n",
      "230       0       0   4   0   3   4   4  \n",
      "231       0       0   6   0   6   8   4  \n",
      "\n",
      "[232 rows x 269 columns]\n"
     ]
    }
   ],
   "source": [
    "import pandas as pd\n",
    "import numpy as np\n",
    "from scipy.io import savemat\n",
    "df_new = pd.read_csv('/Volumes/QCI/NormativeModel/Results/Result_GrayVol246_HBR_HCMDD_1228/StaResults/subtype1_ZvalueHAMD_5f.csv')\n",
    "print(df_new)\n",
    "data = np.array(df_new.iloc[:, 1:])\n",
    "savemat('/Volumes/QCI/NormativeModel/Results/Result_GrayVol246_HBR_HCMDD_1228/StaResults/subtype1_ZvalueHAMD_5f.mat', {'s1': data})"
   ],
   "metadata": {
    "collapsed": false,
    "ExecuteTime": {
     "end_time": "2024-12-30T12:09:40.358829Z",
     "start_time": "2024-12-30T12:09:40.327613Z"
    }
   }
  },
  {
   "cell_type": "markdown",
   "source": [
    "Merge Data"
   ],
   "metadata": {
    "collapsed": false
   }
  },
  {
   "cell_type": "code",
   "execution_count": 106,
   "outputs": [],
   "source": [
    "file_2 = '/Volumes/QCI/NormativeModel/Results/Test1228/Longitudinal/PDND_HAMD_0_52w.csv'\n",
    "file_1 = '/Volumes/QCI/NormativeModel/Results/Result_GrayVol246_HBR_HCMDD_1228/StaResults/GrayVol246_Z_AllMDD.csv'\n",
    "\n",
    "\n",
    "#Read the CSV files into DataFrames\n",
    "df1 = pd.read_csv(file_1)\n",
    "df2 = pd.read_csv(file_2)\n",
    "\n",
    "df_new = pd.merge(df2, df1, on='subID', how='inner')\n",
    "df_new.to_csv('/Volumes/QCI/NormativeModel/Results/Result_GrayVol246_HBR_HCMDD_1228/StaResults/Longitudinal/PDND_Zvalus_HAMD_0_52w.csv', index=False)"
   ],
   "metadata": {
    "collapsed": false,
    "ExecuteTime": {
     "end_time": "2024-12-30T12:58:51.340952Z",
     "start_time": "2024-12-30T12:58:51.296939Z"
    }
   }
  },
  {
   "cell_type": "code",
   "execution_count": 6,
   "outputs": [],
   "source": [
    "Z_AllHCestimate = pd.read_pickle('/Volumes/QCI/NormativeModel/Results/Result_GrayVol246_HBR_HCMDD_1129/NMResults'\n",
    "                                 '/Z_52mdd.pkl')\n",
    "label = pd.read_csv('/Volumes/QCI/NormativeModel/Results/Result_GrayVol246_HBR_HCMDD_1129/Feature/PDND_GrayVol_BN224_52w.csv')\n",
    "\n",
    "brainRegion = label.columns.tolist()\n",
    "del brainRegion[0:7]\n",
    "\n",
    "Z_AllHCestimate.columns = brainRegion\n",
    "\n",
    "subIDs = label['subID']\n",
    "\n",
    "zvalue = pd.concat([subIDs, Z_AllHCestimate], axis=1)\n",
    "\n",
    "zvalue.to_csv('/Volumes/QCI/NormativeModel/Results/Result_GrayVol246_HBR_HCMDD_1129/Check/'\n",
    "              'GrayVol246_Z_mdd52.csv', index=False)\n"
   ],
   "metadata": {
    "collapsed": false,
    "ExecuteTime": {
     "end_time": "2024-12-24T07:55:52.479860Z",
     "start_time": "2024-12-24T07:55:52.456324Z"
    }
   }
  },
  {
   "cell_type": "code",
   "execution_count": 8,
   "outputs": [
    {
     "name": "stdout",
     "output_type": "stream",
     "text": [
      " t_stat:  2.0250091746059624  p_value:  0.04358020000177986\n"
     ]
    }
   ],
   "source": [
    "import scipy.stats as stats\n",
    "import pandas as pd\n",
    "subtype1_path = '/Volumes/QCI/NormativeModel/Results/Result_GrayVol246_HBR_HCMDD_1129/StaResults/subtype1_ZvalueHAMD_5f.csv'\n",
    "subtype2_path = '/Volumes/QCI/NormativeModel/Results/Result_GrayVol246_HBR_HCMDD_1129/StaResults/subtype2_ZvalueHAMD_5f.csv'\n",
    "subtype1_data = pd.read_csv(subtype1_path)\n",
    "subtype2_data = pd.read_csv(subtype2_path)\n",
    "subtype1_mark = subtype1_data['f5']\n",
    "subtype2_mark = subtype2_data['f5']\n",
    "t_stat, p_value = stats.ttest_ind(subtype1_mark, subtype2_mark)\n",
    "print(' t_stat: ',t_stat,' p_value: ', p_value)"
   ],
   "metadata": {
    "collapsed": false,
    "ExecuteTime": {
     "end_time": "2024-12-25T02:55:41.943214Z",
     "start_time": "2024-12-25T02:55:41.928254Z"
    }
   }
  },
  {
   "cell_type": "code",
   "execution_count": 13,
   "outputs": [
    {
     "data": {
      "text/plain": "<Figure size 640x480 with 1 Axes>",
      "image/png": "[encoded data removed]"
     },
     "metadata": {},
     "output_type": "display_data"
    }
   ],
   "source": [
    "import seaborn as sns\n",
    "import matplotlib.pyplot as plt\n",
    "# 准备用于绘制小提琴图的数据，将两个亚型的数据合并到一个DataFrame中，并添加一列用于区分亚型\n",
    "data_for_plot = pd.DataFrame({\n",
    "    'Value': pd.concat([subtype1_mark, subtype2_mark]),\n",
    "    'Subtype': ['Subtype1'] * len(subtype1_mark) + ['Subtype2'] * len(subtype2_mark)\n",
    "})\n",
    "\n",
    "# 绘制小提琴图\n",
    "sns.violinplot(x='Subtype', y='Value', data=data_for_plot)\n",
    "\n",
    "# 设置图形标题、坐标轴标签等\n",
    "plt.title(\"Distribution Comparison of Subtype1 and Subtype2\")\n",
    "plt.xlabel(\"Subtype\")\n",
    "plt.ylabel(\"Sleep Value\")\n",
    "\n",
    "# 展示图形\n",
    "plt.show()"
   ],
   "metadata": {
    "collapsed": false,
    "ExecuteTime": {
     "end_time": "2024-12-25T03:19:15.384307Z",
     "start_time": "2024-12-25T03:19:15.221960Z"
    }
   }
  },
  {
   "cell_type": "code",
   "execution_count": 17,
   "outputs": [
    {
     "name": "stdout",
     "output_type": "stream",
     "text": [
      " t_stat:  15.88972114741281  p_value:  3.70649060139629e-35\n"
     ]
    }
   ],
   "source": [
    "import scipy.stats as stats\n",
    "import pandas as pd\n",
    "subtype1_path = '/Volumes/QCI/NormativeModel/Results/Result_GrayVol246_HBR_HCMDD_1129/StaResults/Longitudinal/PDND_Zvalue_HAMD_52w_diff.csv'\n",
    "subtype2_path = '/Volumes/QCI/NormativeModel/Results/Result_GrayVol246_HBR_HCMDD_1129/StaResults/Longitudinal/PDND_Zvalue_HAMD_52w_diff.csv'\n",
    "subtype1_data = pd.read_csv(subtype1_path)\n",
    "subtype2_data = pd.read_csv(subtype2_path)\n",
    "subtype1_mark = subtype1_data['HAMD_0w']\n",
    "subtype2_mark = subtype2_data['HAMD17_52w']\n",
    "t_stat, p_value = stats.ttest_ind(subtype1_mark, subtype2_mark)\n",
    "print(' t_stat: ',t_stat,' p_value: ', p_value)"
   ],
   "metadata": {
    "collapsed": false,
    "ExecuteTime": {
     "end_time": "2024-12-25T10:54:26.899262Z",
     "start_time": "2024-12-25T10:54:26.872890Z"
    }
   }
  },
  {
   "cell_type": "markdown",
   "source": [
    "Brain Map"
   ],
   "metadata": {
    "collapsed": false
   }
  },
  {
   "cell_type": "code",
   "execution_count": 19,
   "outputs": [
    {
     "name": "stdout",
     "output_type": "stream",
     "text": [
      "Mapped data shape: (1, 59412)\n"
     ]
    }
   ],
   "source": [
    "import nibabel as nib\n",
    "import numpy as np\n",
    "from scipy.io import savemat\n",
    "import pandas as pd\n",
    "\n",
    "# 模板文件路径\n",
    "template_path = '/Users/qingchen/Documents/Data/template/BrainnetomeAtlas/BN_Atlas_freesurfer/fsaverage/fsaverage_LR32k/fsaverage.BN_Atlas.32k_fs_LR.dlabel.nii'\n",
    "template = template_path\n",
    "template = nib.load(template)\n",
    "label=template.get_fdata()\n",
    "label[label > 210] -= 210\n",
    "\n",
    "\n",
    "# 加载 CSV 文件\n",
    "csv_path = '/Volumes/QCI/NormativeModel/Results/Result_GrayVol246_HBR_HCMDD_1129/StaResults/Longitudinal/Predict/SVR/aRes_10k_index79_meanweight.csv'\n",
    "weight_data = pd.read_csv(csv_path)\n",
    "\n",
    "# 读取 结果指标 列，可以是SMSE\\MSLL\n",
    "smse_values = weight_data['weight_mean'].values\n",
    "\n",
    "\n",
    "# 创建一个新的数组用于存储映射值\n",
    "mapped_data = np.zeros_like(label)\n",
    "\n",
    "\n",
    "for i in range(1, 211):\n",
    "    index = np.where(label == i)\n",
    "\n",
    "    mapped_data[index] = smse_values[i - 1]\n",
    "\n",
    "# 检查映射后的数据形状\n",
    "print(\"Mapped data shape:\", mapped_data.shape)\n",
    "\n",
    "# 创建 dscalar.nii 文件\n",
    "scalar_axis = nib.cifti2.cifti2_axes.ScalarAxis(['loading'])\n",
    "brain_model_axis = template.header.get_axis(1)\n",
    "scalar_header = nib.cifti2.Cifti2Header.from_axes((scalar_axis, brain_model_axis))\n",
    "scalar_img = nib.Cifti2Image(mapped_data, header=scalar_header)\n",
    "scalar_img.to_filename('/Volumes/QCI/NormativeModel/Results/Result_GrayVol246_HBR_HCMDD_1129/StaResults/Longitudinal/Predict/SVR/BrainHAMD_weight.dscalar.nii')\n",
    "\n"
   ],
   "metadata": {
    "collapsed": false,
    "ExecuteTime": {
     "end_time": "2024-12-26T03:30:52.598535Z",
     "start_time": "2024-12-26T03:30:52.249083Z"
    }
   }
  },
  {
   "cell_type": "code",
   "execution_count": 60,
   "outputs": [
    {
     "name": "stdout",
     "output_type": "stream",
     "text": [
      "r -             0\n",
      "0   0.713438\n",
      "1   0.708184\n",
      "2   0.676125\n",
      "3   0.495377\n",
      "4   0.499246\n",
      "5   0.610544\n",
      "6   0.493040\n",
      "7   0.538494\n",
      "8   0.289458\n",
      "9   0.413232\n",
      "10  0.427181\n",
      "11  0.590544\n",
      "12  0.446261\n",
      "13  0.419424\n",
      "14  0.571588\n",
      "15  0.350828\n",
      "16  0.423167\n",
      "17  0.257617\n",
      "18  0.502016\n",
      "19  0.570124\n",
      "20  0.441819\n",
      "21  0.426230\n",
      "22  0.294465\n",
      "23  0.522499\n",
      "24  0.672633\n",
      "25  0.831204\n",
      "26  0.578677\n",
      "27  0.461117\n",
      "28  0.545128\n",
      "29  0.712388\n",
      "30  0.564481\n",
      "31  0.638967\n",
      "32  0.570665\n",
      "33  0.590684\n",
      "34  0.372357\n",
      "35  0.438742\n",
      "yhat-  (222, 36)\n",
      "EXPV -  (36, 1)\n",
      "            0\n",
      "0       A8m_R\n",
      "1      A8dl_R\n",
      "2       A9l_R\n",
      "3      A6dl_R\n",
      "4       A6m_R\n",
      "..        ...\n",
      "241    Otha_R\n",
      "242   cTtha_L\n",
      "243   cTtha_R\n",
      "244  lPFtha_L\n",
      "245  lPFtha_R\n",
      "\n",
      "[246 rows x 1 columns]\n",
      "246\n"
     ]
    }
   ],
   "source": [
    "import pandas as pd\n",
    "import numpy as np\n",
    "\n",
    "def pkltocsv(Resultpath,labelpath,columnsname,opath,mark):\n",
    "    Rho_AllHCestimate = pd.read_pickle(Resultpath+'Rho_'+mark+'.pkl')\n",
    "    print('r - ',Rho_AllHCestimate.shape)\n",
    "    pRho_AllHCestimate = pd.read_pickle(Resultpath+'pRho_'+mark+'.pkl')\n",
    "\n",
    "    SMSE_AllHCestimate = pd.read_pickle(Resultpath+'SMSE_'+mark+'.pkl')\n",
    "\n",
    "    RMSE_AllHCestimate = pd.read_pickle(Resultpath+'RMSE_'+mark+'.pkl')\n",
    "\n",
    "    yhat_AllHCestimate = pd.read_pickle(Resultpath+'yhat_'+mark+'.pkl')\n",
    "    print('yhat- ',yhat_AllHCestimate.shape)\n",
    "    EXPV_AllHCestimate = pd.read_pickle(Resultpath + 'EXPV_' + mark + '.pkl')\n",
    "    print('EXPV - ',EXPV_AllHCestimate.shape)\n",
    "    MSLL_AllHCestimate = pd.read_pickle(Resultpath + 'MSLL_' + mark + '.pkl')\n",
    "\n",
    "    label = pd.read_csv(labelpath)\n",
    "    brainRegion = label.columns.tolist()\n",
    "    a = brainRegion[6:]\n",
    "    regions = pd.DataFrame(a)\n",
    "    print(regions)\n",
    "    print(len(regions))\n",
    "    # m = []\n",
    "    # for num,re in enumerate(brainRegion):\n",
    "    #     a = yhat_AllHCestimate[num]\n",
    "    #     b = label[re]\n",
    "    #     MAE = np.mean(np.abs(a - b))\n",
    "    #     m.append(MAE)\n",
    "    # mae = pd.DataFrame(m)\n",
    "\n",
    "    df_sum = pd.concat([regions, Rho_AllHCestimate, pRho_AllHCestimate, RMSE_AllHCestimate, SMSE_AllHCestimate, EXPV_AllHCestimate,MSLL_AllHCestimate],\n",
    "                       axis=1)  # 将两列拼接在一起，axis=1 表示按列拼接\n",
    "    df_sum.columns = columnsname\n",
    "    df_sum.to_csv(opath)\n",
    "columnsname = ['Regions','Rho_estimate', 'pRho_estimate', 'RMSE_estimate', 'SMSE', 'EXPV','MSLL']\n",
    "\n",
    "Resultpath = '/Volumes/QCI/NormativeModel/Results/Result_GrayVol246_HBR_HCMDD_122802/NMResults/'\n",
    "labelpath = '/Volumes/QCI/NormativeModel/Results/Result_GrayVol246_HBR_HCMDD_122802/NMResults/allHC_te.csv'\n",
    "opath = '/Volumes/QCI/NormativeModel/Results/Result_GrayVol246_HBR_HCMDD_122802/StaResults/hbr_estimate_GrayVol246_ResSum.csv'\n",
    "mark = 'estimate'\n",
    "pkltocsv(Resultpath, labelpath, columnsname, opath, mark)\n",
    "#\n",
    "# Resultpath = '/Volumes/QCI/NormativeModel/Results/Result_GrayVol246_HBR_HCMDD_1018/NMResults/'\n",
    "# mddlabel = '/Volumes/QCI/NormativeModel/Results/Result_GrayVol246_HBR_HCMDD_1018/NMResults/allHC_anding_te.csv'\n",
    "# opath = '/Volumes/QCI/NormativeModel/Results/Result_GrayVol246_HBR_HCMDD_1018/StaResults/hbr_transfer_GrayVol246_ResSum.csv'\n",
    "# mark = 'transfer'\n",
    "# pkltocsv(Resultpath,mddlabel,columnsname,opath,mark)\n",
    "#\n",
    "# Resultpath = '/Volumes/QCI/NormativeModel/Results/Result_GrayVol246_HBR_HCMDD_1028/NMResults/'\n",
    "# mddlabel = '/Volumes/QCI/NormativeModel/FeatureData/StructureFeature_246/allstruc/nocombat/allMDDGrayVol246_sum.csv'\n",
    "# opath = '/Volumes/QCI/NormativeModel/Results/Result_GrayVol246_HBR_HCMDD_1028/StaResults/hbr_mdd_GrayVol246_ResSum.csv'\n",
    "# mark = 'mdd'\n",
    "# pkltocsv(Resultpath,mddlabel,columnsname,opath,mark)"
   ],
   "metadata": {
    "collapsed": false,
    "ExecuteTime": {
     "end_time": "2024-12-28T03:06:45.467666Z",
     "start_time": "2024-12-28T03:06:45.432788Z"
    }
   }
  },
  {
   "cell_type": "code",
   "execution_count": 98,
   "outputs": [
    {
     "name": "stdout",
     "output_type": "stream",
     "text": [
      "f1  t_stat:  1.1424927296547793  p_value:  0.25396671246571517\n",
      "f2  t_stat:  -0.6629273077872927  p_value:  0.5077779651977941\n",
      "f3  t_stat:  -5.4412760765633195  p_value:  9.485475436628843e-08\n",
      "f4  t_stat:  0.2957780069348775  p_value:  0.7675607564343633\n",
      "f5  t_stat:  1.1326636546105286  p_value:  0.25806782146981583\n",
      "[4.30113036e-01 6.34722456e-01 4.74273772e-07 7.67560756e-01\n",
      " 4.30113036e-01]\n"
     ]
    }
   ],
   "source": [
    "# import scipy.stats as stats\n",
    "# import pandas as pd\n",
    "# import numpy as np\n",
    "# def cohen_d(group1, group2):\n",
    "#     \"\"\"\n",
    "#     计算Cohen's d\n",
    "#     :param group1: 第一组数据（一维数组或列表）\n",
    "#     :param group2: 第二组数据（一维数组或列表）\n",
    "#     :return: Cohen's d值\n",
    "#     \"\"\"\n",
    "#     n1, n2 = len(group1), len(group2)\n",
    "#     mean1, mean2 = np.mean(group1), np.mean(group2)\n",
    "#     var1, var2 = np.var(group1, ddof=1), np.var(group2, ddof=1)\n",
    "#     pooled_std = np.sqrt(((n1 - 1) * var1 + (n2 - 1) * var2) / (n1 + n2 - 2))\n",
    "#     return (mean1 - mean2) / pooled_std\n",
    "#\n",
    "#\n",
    "# subtype1_path = '/Volumes/QCI/NormativeModel/Results/Result_GrayVol246_HBR_HCMDD_1129/StaResults/subtype1_ZvalueHAMD_5f.csv'\n",
    "# subtype2_path = '/Volumes/QCI/NormativeModel/Results/Result_GrayVol246_HBR_HCMDD_1129/StaResults/subtype2_ZvalueHAMD_5f.csv'\n",
    "# subtype1_data = pd.read_csv(subtype1_path)\n",
    "# subtype2_data = pd.read_csv(subtype2_path)\n",
    "# subtype1_mark = subtype1_data['f5']\n",
    "# subtype2_mark = subtype2_data['f5']\n",
    "# t_stat, p_value = stats.ttest_ind(subtype1_mark, subtype2_mark)\n",
    "# cod = cohen_d(subtype1_mark, subtype2_mark)\n",
    "# print(cod)\n",
    "# print(' t_stat: ',t_stat,' p_value: ', p_value)\n",
    "#\n",
    "# import seaborn as sns\n",
    "# import matplotlib.pyplot as plt\n",
    "# # 准备用于绘制小提琴图的数据，将两个亚型的数据合并到一个DataFrame中，并添加一列用于区分亚型\n",
    "# data_for_plot = pd.DataFrame({\n",
    "#     'Value': pd.concat([subtype1_mark, subtype2_mark]),\n",
    "#     'Subtype': ['Subtype1'] * len(subtype1_mark) + ['Subtype2'] * len(subtype2_mark)\n",
    "# })\n",
    "# fig, ax = plt.subplots(figsize=(10, 6))\n",
    "# palette = {'HCs': '#8BACD1', 'Subtype1': '#C17F9E', 'Subtype2': '#80B1D3'}\n",
    "# # 绘制小提琴图\n",
    "# sns.violinplot(x='Subtype', y='Value', data=data_for_plot, palette=palette)\n",
    "# ax.set_yticks([0, 2, 4, 6, 8])\n",
    "# ax.tick_params(axis='y', labelsize=12)\n",
    "# ax.tick_params(axis='x', labelsize=12)\n",
    "# # 去掉上面和右边的线条\n",
    "# ax.spines['top'].set_visible(False)\n",
    "# ax.spines['right'].set_visible(False)\n",
    "#\n",
    "# # 自定义x轴和y轴的线条粗细\n",
    "# ax.spines['bottom'].set_linewidth(1.0)\n",
    "# ax.spines['left'].set_linewidth(1.0)\n",
    "# # 设置图形标题、坐标轴标签等\n",
    "# #plt.title(\"Distribution Comparison of Subtype1 and Subtype2\")\n",
    "# plt.xlabel(\"Subtype\", size=14)\n",
    "# plt.ylabel(\"Sleep Score\", size=14)\n",
    "#\n",
    "# # 展示图形\n",
    "# plt.show()\n",
    "import scipy.stats as stats\n",
    "import pandas as pd\n",
    "import numpy as np\n",
    "from scipy.stats import pearsonr\n",
    "from scipy.stats import spearmanr\n",
    "import statsmodels.stats.multitest as smm\n",
    "import seaborn as sns\n",
    "import matplotlib.pyplot as plt\n",
    "\n",
    "\n",
    "def cohen_d(group1, group2):\n",
    "    \"\"\"\n",
    "    计算Cohen's d\n",
    "    :param group1: 第一组数据（一维数组或列表）\n",
    "    :param group2: 第二组数据（一维数组或列表）\n",
    "    :return: Cohen's d值\n",
    "    \"\"\"\n",
    "    n1, n2 = len(group1), len(group2)\n",
    "    mean1, mean2 = np.mean(group1), np.mean(group2)\n",
    "    var1, var2 = np.var(group1, ddof=1), np.var(group2, ddof=1)\n",
    "    pooled_std = np.sqrt(((n1 - 1) * var1 + (n2 - 1) * var2) / (n1 + n2 - 2))\n",
    "    return (mean1 - mean2) / pooled_std\n",
    "\n",
    "\n",
    "subtype1_path = '/Volumes/QCI/NormativeModel/Results/Result_GrayVol246_HBR_HCMDD_1228/StaResults/subtype1_ZvalueHAMD_5f.csv'\n",
    "subtype2_path = '/Volumes/QCI/NormativeModel/Results/Result_GrayVol246_HBR_HCMDD_1228/StaResults/subtype2_ZvalueHAMD_5f.csv'\n",
    "subtype1_data = pd.read_csv(subtype1_path)\n",
    "subtype2_data = pd.read_csv(subtype2_path)\n",
    "a = ['f1', 'f2', 'f3', 'f4', 'f5']\n",
    "# a = ['HAMD1','HAMD2','HAMD3','HAMD4','HAMD5','HAMD6','HAMD7','HAMD8','HAMD9','HAMD10','HAMD11','HAMD12','HAMD13','HAMD14','HAMD15','HAMD16','HAMD17']\n",
    "pbox = []\n",
    "for i in a:\n",
    "    subtype1_mark = subtype1_data[i]\n",
    "\n",
    "    subtype2_mark = subtype2_data[i]\n",
    "\n",
    "    t_stat, p_value = stats.ttest_ind(subtype1_mark, subtype2_mark)\n",
    "    pbox.append(p_value)\n",
    "    cod = cohen_d(subtype1_mark, subtype2_mark)\n",
    "\n",
    "    #print(cod)\n",
    "    print(i, ' t_stat: ', t_stat, ' p_value: ', p_value)\n",
    "rejected, fdr_pvalue, _, _ = smm.multipletests(pbox, method='fdr_bh')\n",
    "\n",
    "print(fdr_pvalue)\n",
    "# # 准备用于绘制箱体图的数据，将两个亚型的数据合并到一个DataFrame中，并添加一列用于区分亚型\n",
    "# data_for_plot = pd.DataFrame({\n",
    "#     'Value': pd.concat([subtype1_mark, subtype2_mark]),\n",
    "#     'Subtype': ['Subtype1'] * len(subtype1_mark) + ['Subtype2'] * len(subtype2_mark)\n",
    "# })\n",
    "#\n",
    "# fig, ax = plt.subplots(figsize=(10, 6))\n",
    "# palette = {'HCs': '#8BACD1', 'Subtype1': '#C17F9E', 'Subtype2': '#80B1D3'}\n",
    "#\n",
    "# # 绘制箱体图\n",
    "# box_plot = sns.boxplot(x='Subtype', y='Value', data=data_for_plot, palette=palette, width=0.3)\n",
    "#\n",
    "# # 获取箱线图的各个组成部分，以便设置线条宽度\n",
    "# lines = box_plot.lines\n",
    "# for line in lines:\n",
    "#     line.set_linewidth(1.5)  # 将线宽设置为2.0，可根据实际需求调整该值\n",
    "#\n",
    "# ax.set_yticks([0, 2, 4, 6, 8])\n",
    "# ax.tick_params(axis='y', labelsize=12)\n",
    "# ax.tick_params(axis='x', labelsize=12)\n",
    "#\n",
    "# # 去掉上面和右边的线条\n",
    "# ax.spines['top'].set_visible(False)\n",
    "# ax.spines['right'].set_visible(False)\n",
    "#\n",
    "# # 自定义x轴和y轴的线条粗细\n",
    "# ax.spines['bottom'].set_linewidth(1.0)\n",
    "# ax.spines['left'].set_linewidth(1.0)\n",
    "#\n",
    "# # 设置图形标题、坐标轴标签等\n",
    "# # plt.title(\"Distribution Comparison of Subtype1 and Subtype2\")\n",
    "# plt.xlabel(\"Subtype\", size=14)\n",
    "# plt.ylabel(\"Sleep Score\", size=14)\n",
    "#\n",
    "# # 展示图形\n",
    "# plt.show()"
   ],
   "metadata": {
    "collapsed": false,
    "ExecuteTime": {
     "end_time": "2024-12-30T12:01:54.513492Z",
     "start_time": "2024-12-30T12:01:54.468925Z"
    }
   }
  },
  {
   "cell_type": "code",
   "execution_count": 96,
   "outputs": [
    {
     "name": "stdout",
     "output_type": "stream",
     "text": [
      "age\n",
      "BPX\n",
      "CTQ\n",
      "HAMD\n",
      "GAD\n",
      "HAMA\n",
      "HCL\n",
      "PSS\n",
      "QIDS\n",
      "SHAP\n",
      "PHQ9\n",
      "EPQE\n",
      "EPQN\n",
      "EPQL\n",
      "EPQP\n",
      "Done\n",
      "subtype1 - age.  pearson correlation: -0.17019889408810326 p-value: 0.010034624488168003\n",
      "subtype1 - age.  spearman correlation: -0.14430392347494078 p-value: 0.02937779086414815\n",
      "subtype2 - GAD.  pearson correlation: 0.3038802033563976 p-value: 0.020392893281320046\n",
      "subtype2 - GAD.  spearman correlation: 0.28784929630206013 p-value: 0.028446217376958263\n"
     ]
    }
   ],
   "source": [
    "import numpy as np\n",
    "from scipy.stats import pearsonr\n",
    "from scipy.stats import spearmanr\n",
    "import statsmodels.stats.multitest as smm\n",
    "import glob\n",
    "import pandas as pd\n",
    "# 第一步 构建数据 TOC和行为拼接到 csv\n",
    "csvdata = glob.glob(\"/Volumes/QCI/NormativeModel/Results/Result_GrayVol246_HBR_HCMDD_1228/StaResults/ClinicalInfo/*.csv\")\n",
    "\n",
    "for b in csvdata:\n",
    "  box = []\n",
    "  name = b.split('/')[-1].split('_')[-1][:-4]\n",
    "  print(name)\n",
    "  for i in range(1, 3):\n",
    "      file_1 = '/Volumes/QCI/NormativeModel/Results/Test1228/' \\\n",
    "                  'subtype' + str(i) + '_TOC.csv'\n",
    "\n",
    "      df1 = pd.read_csv(file_1)\n",
    "      df2 = pd.read_csv(b)\n",
    "      df_new = pd.merge(df2, df1, on='subID', how='inner')\n",
    "\n",
    "      box.append(df_new)\n",
    "      df_new.to_csv('/Volumes/QCI/NormativeModel/Results/Test1228/TOC/subtype'+str(i)+'_TOC_'+name+'.csv', index=False)\n",
    "print(\"Done\")\n",
    "\n",
    "# # 第二步计算相关\n",
    "file_1 = '/Volumes/QCI/NormativeModel/Results/Test1228/TOC/*.csv'\n",
    "csv = glob.glob(file_1)\n",
    "for i in csv:\n",
    "\n",
    "    sbty = i.split('/')[-1].split('_')\n",
    "    beh = sbty[-1][:-3]\n",
    "    stype = sbty[0]\n",
    "    # Read the CSV files into DataFrames\n",
    "    df1 = pd.read_csv(i)\n",
    "\n",
    "    behscore = np.array(df1.iloc[:, 1])\n",
    "\n",
    "    x = np.array(df1.iloc[:, 2])\n",
    "\n",
    "    y = behscore\n",
    "\n",
    "    corr, p_value = pearsonr(x, y)\n",
    "    if p_value < 0.05:\n",
    "        print(stype, '-', beh, ' pearson correlation:', corr, 'p-value:', p_value)\n",
    "\n",
    "    scorr, sp_value = spearmanr(x, y)\n",
    "    if sp_value < 0.05:\n",
    "        print(stype, '-', beh, ' spearman correlation:', scorr, 'p-value:', sp_value)\n",
    "\n",
    "\n",
    "\n",
    "\n"
   ],
   "metadata": {
    "collapsed": false,
    "ExecuteTime": {
     "end_time": "2024-12-30T11:46:54.745845Z",
     "start_time": "2024-12-30T11:46:54.466407Z"
    }
   }
  },
  {
   "cell_type": "code",
   "execution_count": 114,
   "outputs": [
    {
     "name": "stdout",
     "output_type": "stream",
     "text": [
      "sub-1000002V01\n",
      "sub-1000003V01\n",
      "sub-1000012V01\n",
      "sub-1000024V01\n",
      "sub-1000052V01\n",
      "sub-1000053V01\n",
      "sub-1000060V01\n",
      "sub-1000063V01\n",
      "sub-1000064V01\n",
      "sub-1000068V01\n",
      "sub-1000083V01\n",
      "sub-1000115V01\n",
      "sub-1000122V01\n",
      "sub-1000128V01\n",
      "sub-1000140V01\n",
      "sub-1000153V01\n",
      "sub-1000161V01\n",
      "sub-1000168V01\n",
      "sub-1000169V01\n",
      "sub-1000218V01\n",
      "sub-1000222V01\n",
      "sub-1000250V01\n",
      "sub-1000280V01\n",
      "sub-1000286V01\n",
      "sub-1000304V01\n",
      "sub-1000309V01\n",
      "sub-1000314V01\n",
      "sub-1000355V01\n",
      "sub-1000369V01\n",
      "sub-1000394V01\n",
      "sub-1000413V01\n",
      "sub-1000444V01\n",
      "sub-1000447V01\n",
      "sub-1000465V01\n",
      "sub-1000468V01\n",
      "sub-1000527V01\n",
      "sub-1000535V01\n",
      "sub-1000541V01\n",
      "sub-1000548V01\n",
      "sub-1000559V01\n",
      "sub-1000587V01\n",
      "sub-1000596V01\n",
      "sub-1000607V01\n",
      "sub-1000618V01\n",
      "sub-1000642V01\n",
      "sub-1000667V01\n",
      "sub-1000735V01\n",
      "sub-1000741V01\n",
      "sub-1000818V01\n",
      "sub-1000849V01\n",
      "sub-1000974V01\n",
      "sub-1000977V01\n",
      "sub-1001006V01\n",
      "sub-1001020V01\n",
      "sub-1001028V01\n",
      "sub-MDD003\n",
      "sub-MDD005V01\n",
      "sub-MDD006\n",
      "sub-MDD007\n",
      "sub-MDD009\n",
      "sub-MDD009V01\n",
      "sub-MDD010\n",
      "sub-MDD012V01\n",
      "sub-MDD016V01\n",
      "sub-MDD017V01\n",
      "sub-MDD018\n",
      "sub-MDD018V01\n",
      "sub-MDD021\n",
      "sub-MDD021V01\n",
      "sub-MDD022\n",
      "sub-MDD025\n",
      "sub-MDD026V01\n",
      "sub-MDD027\n",
      "sub-MDD028V01\n",
      "sub-MDD029V01\n",
      "sub-MDD031\n",
      "sub-MDD032V01\n",
      "sub-MDD035\n",
      "sub-MDD035V01\n",
      "sub-MDD036\n",
      "sub-MDD037\n",
      "sub-MDD038\n",
      "sub-MDD038V01\n",
      "sub-MDD039V01\n",
      "sub-MDD040\n",
      "sub-MDD040V01\n",
      "sub-MDD041\n",
      "sub-MDD041V01\n",
      "sub-MDD043\n",
      "sub-MDD043V01\n",
      "sub-MDD046\n",
      "sub-MDD047V01\n",
      "sub-MDD049V01\n",
      "sub-MDD050\n",
      "sub-MDD051V01\n",
      "sub-MDD052V01\n",
      "sub-MDD054V01\n",
      "sub-MDD055V01\n",
      "sub-MDD056\n",
      "sub-MDD057\n",
      "sub-MDD057V01\n",
      "sub-MDD061V01\n",
      "sub-MDD062V01\n",
      "sub-MDD063\n",
      "sub-MDD063V01\n",
      "sub-MDD064\n",
      "sub-MDD064V01\n",
      "sub-MDD066V01\n",
      "sub-MDD067\n",
      "sub-MDD069\n",
      "sub-MDD070\n",
      "sub-MDD070V01\n",
      "sub-MDD071\n",
      "sub-MDD071V01\n",
      "sub-MDD072\n",
      "sub-MDD075\n",
      "sub-MDD076\n",
      "sub-MDD079\n",
      "sub-MDD079V01\n",
      "sub-MDD080\n",
      "sub-MDD082\n",
      "sub-MDD083\n",
      "sub-MDD084\n",
      "sub-MDD084V01\n",
      "sub-MDD085\n",
      "sub-MDD085V01\n",
      "sub-MDD086\n",
      "sub-MDD087V01\n",
      "sub-MDD088V01\n",
      "sub-MDD090V01\n",
      "sub-MDD091\n",
      "sub-MDD095\n",
      "sub-MDD095V01\n",
      "sub-MDD096V01\n",
      "sub-MDD097V01\n",
      "sub-MDD098V01\n",
      "sub-MDD099\n",
      "sub-MDD100\n",
      "sub-MDD101\n",
      "sub-MDD101V01\n",
      "sub-MDD105V01\n",
      "sub-MDD110\n",
      "sub-MDD111\n",
      "sub-MDD112V01\n",
      "sub-MDD115V01\n",
      "sub-MDD117V01\n",
      "sub-MDD119\n",
      "sub-MDD121\n",
      "sub-MDD122V01\n",
      "sub-MDD128V01\n",
      "sub-MDD129\n",
      "sub-MDD130V01\n",
      "sub-MDD131\n",
      "sub-MDD132\n",
      "sub-MDD133\n",
      "sub-MDD133V01\n",
      "sub-MDD134\n",
      "sub-MDD136V01\n",
      "sub-MDD137\n",
      "sub-MDD138\n",
      "sub-MDD138V01\n",
      "sub-MDD139\n",
      "sub-MDD141V01\n"
     ]
    }
   ],
   "source": [
    "import glob\n",
    "import pandas as pd\n",
    "from shutil import copy\n",
    "import os\n",
    "\n",
    "s1Path = \"/Volumes/QCI/NormativeModel/Results/Result_GrayVol246_HBR_HCMDD_1228/StaResults/subtype2_TOC.csv\"\n",
    "\n",
    "subID = pd.read_csv(s1Path)['subID']\n",
    "\n",
    "for i in subID:\n",
    "    print(i)\n",
    "    datapath = '/Volumes/QCI/Gradient_MDD/MDD_BN246FC/'+i+'_FC.mat'\n",
    "    npath = '/Volumes/QCI/NormativeModel/Results/Result_GrayVol246_HBR_HCMDD_1228/StaResults/subtype2_246FC/'\n",
    "    if not os.path.exists(datapath):\n",
    "        continue;\n",
    "    copy(datapath, npath +i+ '_FC.mat')\n"
   ],
   "metadata": {
    "collapsed": false,
    "ExecuteTime": {
     "end_time": "2025-01-02T06:58:33.692296Z",
     "start_time": "2025-01-02T06:58:32.746487Z"
    }
   }
  }
 ],
 "metadata": {
  "kernelspec": {
   "name": "python3",
   "language": "python",
   "display_name": "Python 3 (ipykernel)"
  },
  "language_info": {
   "codemirror_mode": {
    "name": "ipython",
    "version": 2
   },
   "file_extension": ".py",
   "mimetype": "text/x-python",
   "name": "python",
   "nbconvert_exporter": "python",
   "pygments_lexer": "ipython2",
   "version": "2.7.6"
  }
 },
 "nbformat": 4,
 "nbformat_minor": 0
}
