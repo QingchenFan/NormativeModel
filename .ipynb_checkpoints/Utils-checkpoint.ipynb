{
 "cells": [
  {
   "cell_type": "code",
   "execution_count": null,
   "metadata": {
    "collapsed": true,
    "is_executing": true
   },
   "outputs": [],
   "source": [
    "import glob\n",
    "import pandas as pd\n",
    "import numpy as np\n",
    "from scipy.io import savemat"
   ]
  },
  {
   "cell_type": "markdown",
   "source": [
    "# 合并数据 供 PLS使用"
   ],
   "metadata": {
    "collapsed": false
   }
  },
  {
   "cell_type": "code",
   "execution_count": 5,
   "outputs": [
    {
     "ename": "FileNotFoundError",
     "evalue": "[Errno 2] No such file or directory: '/Users/qingchen/Documents/Data/zhouLabData/Fan_DaraClearn/BrainProject/Import_data/PD_NP_4EPQ.csv'",
     "output_type": "error",
     "traceback": [
      "\u001B[0;31m---------------------------------------------------------------------------\u001B[0m",
      "\u001B[0;31mFileNotFoundError\u001B[0m                         Traceback (most recent call last)",
      "Cell \u001B[0;32mIn[5], line 11\u001B[0m\n\u001B[1;32m      6\u001B[0m file_1 \u001B[38;5;241m=\u001B[39m \u001B[38;5;124m'\u001B[39m\u001B[38;5;124m/Users/qingchen/Documents/Data/zhouLabData/Fan_DaraClearn/BrainProject/Import_data/PD_NP_\u001B[39m\u001B[38;5;124m'\u001B[39m\u001B[38;5;241m+\u001B[39mmark\u001B[38;5;241m+\u001B[39m\u001B[38;5;124m'\u001B[39m\u001B[38;5;124m.csv\u001B[39m\u001B[38;5;124m'\u001B[39m\n\u001B[1;32m     10\u001B[0m \u001B[38;5;66;03m# Read the CSV files into DataFrames\u001B[39;00m\n\u001B[0;32m---> 11\u001B[0m df1 \u001B[38;5;241m=\u001B[39m pd\u001B[38;5;241m.\u001B[39mread_csv(file_1)\n\u001B[1;32m     12\u001B[0m df2 \u001B[38;5;241m=\u001B[39m pd\u001B[38;5;241m.\u001B[39mread_csv(file_2)\n\u001B[1;32m     14\u001B[0m df_new \u001B[38;5;241m=\u001B[39m pd\u001B[38;5;241m.\u001B[39mmerge(df2, df1, on\u001B[38;5;241m=\u001B[39m\u001B[38;5;124m'\u001B[39m\u001B[38;5;124msubID\u001B[39m\u001B[38;5;124m'\u001B[39m, how\u001B[38;5;241m=\u001B[39m\u001B[38;5;124m'\u001B[39m\u001B[38;5;124minner\u001B[39m\u001B[38;5;124m'\u001B[39m)\n",
      "File \u001B[0;32m/opt/anaconda3/lib/python3.12/site-packages/pandas/io/parsers/readers.py:1026\u001B[0m, in \u001B[0;36mread_csv\u001B[0;34m(filepath_or_buffer, sep, delimiter, header, names, index_col, usecols, dtype, engine, converters, true_values, false_values, skipinitialspace, skiprows, skipfooter, nrows, na_values, keep_default_na, na_filter, verbose, skip_blank_lines, parse_dates, infer_datetime_format, keep_date_col, date_parser, date_format, dayfirst, cache_dates, iterator, chunksize, compression, thousands, decimal, lineterminator, quotechar, quoting, doublequote, escapechar, comment, encoding, encoding_errors, dialect, on_bad_lines, delim_whitespace, low_memory, memory_map, float_precision, storage_options, dtype_backend)\u001B[0m\n\u001B[1;32m   1013\u001B[0m kwds_defaults \u001B[38;5;241m=\u001B[39m _refine_defaults_read(\n\u001B[1;32m   1014\u001B[0m     dialect,\n\u001B[1;32m   1015\u001B[0m     delimiter,\n\u001B[0;32m   (...)\u001B[0m\n\u001B[1;32m   1022\u001B[0m     dtype_backend\u001B[38;5;241m=\u001B[39mdtype_backend,\n\u001B[1;32m   1023\u001B[0m )\n\u001B[1;32m   1024\u001B[0m kwds\u001B[38;5;241m.\u001B[39mupdate(kwds_defaults)\n\u001B[0;32m-> 1026\u001B[0m \u001B[38;5;28;01mreturn\u001B[39;00m _read(filepath_or_buffer, kwds)\n",
      "File \u001B[0;32m/opt/anaconda3/lib/python3.12/site-packages/pandas/io/parsers/readers.py:620\u001B[0m, in \u001B[0;36m_read\u001B[0;34m(filepath_or_buffer, kwds)\u001B[0m\n\u001B[1;32m    617\u001B[0m _validate_names(kwds\u001B[38;5;241m.\u001B[39mget(\u001B[38;5;124m\"\u001B[39m\u001B[38;5;124mnames\u001B[39m\u001B[38;5;124m\"\u001B[39m, \u001B[38;5;28;01mNone\u001B[39;00m))\n\u001B[1;32m    619\u001B[0m \u001B[38;5;66;03m# Create the parser.\u001B[39;00m\n\u001B[0;32m--> 620\u001B[0m parser \u001B[38;5;241m=\u001B[39m TextFileReader(filepath_or_buffer, \u001B[38;5;241m*\u001B[39m\u001B[38;5;241m*\u001B[39mkwds)\n\u001B[1;32m    622\u001B[0m \u001B[38;5;28;01mif\u001B[39;00m chunksize \u001B[38;5;129;01mor\u001B[39;00m iterator:\n\u001B[1;32m    623\u001B[0m     \u001B[38;5;28;01mreturn\u001B[39;00m parser\n",
      "File \u001B[0;32m/opt/anaconda3/lib/python3.12/site-packages/pandas/io/parsers/readers.py:1620\u001B[0m, in \u001B[0;36mTextFileReader.__init__\u001B[0;34m(self, f, engine, **kwds)\u001B[0m\n\u001B[1;32m   1617\u001B[0m     \u001B[38;5;28mself\u001B[39m\u001B[38;5;241m.\u001B[39moptions[\u001B[38;5;124m\"\u001B[39m\u001B[38;5;124mhas_index_names\u001B[39m\u001B[38;5;124m\"\u001B[39m] \u001B[38;5;241m=\u001B[39m kwds[\u001B[38;5;124m\"\u001B[39m\u001B[38;5;124mhas_index_names\u001B[39m\u001B[38;5;124m\"\u001B[39m]\n\u001B[1;32m   1619\u001B[0m \u001B[38;5;28mself\u001B[39m\u001B[38;5;241m.\u001B[39mhandles: IOHandles \u001B[38;5;241m|\u001B[39m \u001B[38;5;28;01mNone\u001B[39;00m \u001B[38;5;241m=\u001B[39m \u001B[38;5;28;01mNone\u001B[39;00m\n\u001B[0;32m-> 1620\u001B[0m \u001B[38;5;28mself\u001B[39m\u001B[38;5;241m.\u001B[39m_engine \u001B[38;5;241m=\u001B[39m \u001B[38;5;28mself\u001B[39m\u001B[38;5;241m.\u001B[39m_make_engine(f, \u001B[38;5;28mself\u001B[39m\u001B[38;5;241m.\u001B[39mengine)\n",
      "File \u001B[0;32m/opt/anaconda3/lib/python3.12/site-packages/pandas/io/parsers/readers.py:1880\u001B[0m, in \u001B[0;36mTextFileReader._make_engine\u001B[0;34m(self, f, engine)\u001B[0m\n\u001B[1;32m   1878\u001B[0m     \u001B[38;5;28;01mif\u001B[39;00m \u001B[38;5;124m\"\u001B[39m\u001B[38;5;124mb\u001B[39m\u001B[38;5;124m\"\u001B[39m \u001B[38;5;129;01mnot\u001B[39;00m \u001B[38;5;129;01min\u001B[39;00m mode:\n\u001B[1;32m   1879\u001B[0m         mode \u001B[38;5;241m+\u001B[39m\u001B[38;5;241m=\u001B[39m \u001B[38;5;124m\"\u001B[39m\u001B[38;5;124mb\u001B[39m\u001B[38;5;124m\"\u001B[39m\n\u001B[0;32m-> 1880\u001B[0m \u001B[38;5;28mself\u001B[39m\u001B[38;5;241m.\u001B[39mhandles \u001B[38;5;241m=\u001B[39m get_handle(\n\u001B[1;32m   1881\u001B[0m     f,\n\u001B[1;32m   1882\u001B[0m     mode,\n\u001B[1;32m   1883\u001B[0m     encoding\u001B[38;5;241m=\u001B[39m\u001B[38;5;28mself\u001B[39m\u001B[38;5;241m.\u001B[39moptions\u001B[38;5;241m.\u001B[39mget(\u001B[38;5;124m\"\u001B[39m\u001B[38;5;124mencoding\u001B[39m\u001B[38;5;124m\"\u001B[39m, \u001B[38;5;28;01mNone\u001B[39;00m),\n\u001B[1;32m   1884\u001B[0m     compression\u001B[38;5;241m=\u001B[39m\u001B[38;5;28mself\u001B[39m\u001B[38;5;241m.\u001B[39moptions\u001B[38;5;241m.\u001B[39mget(\u001B[38;5;124m\"\u001B[39m\u001B[38;5;124mcompression\u001B[39m\u001B[38;5;124m\"\u001B[39m, \u001B[38;5;28;01mNone\u001B[39;00m),\n\u001B[1;32m   1885\u001B[0m     memory_map\u001B[38;5;241m=\u001B[39m\u001B[38;5;28mself\u001B[39m\u001B[38;5;241m.\u001B[39moptions\u001B[38;5;241m.\u001B[39mget(\u001B[38;5;124m\"\u001B[39m\u001B[38;5;124mmemory_map\u001B[39m\u001B[38;5;124m\"\u001B[39m, \u001B[38;5;28;01mFalse\u001B[39;00m),\n\u001B[1;32m   1886\u001B[0m     is_text\u001B[38;5;241m=\u001B[39mis_text,\n\u001B[1;32m   1887\u001B[0m     errors\u001B[38;5;241m=\u001B[39m\u001B[38;5;28mself\u001B[39m\u001B[38;5;241m.\u001B[39moptions\u001B[38;5;241m.\u001B[39mget(\u001B[38;5;124m\"\u001B[39m\u001B[38;5;124mencoding_errors\u001B[39m\u001B[38;5;124m\"\u001B[39m, \u001B[38;5;124m\"\u001B[39m\u001B[38;5;124mstrict\u001B[39m\u001B[38;5;124m\"\u001B[39m),\n\u001B[1;32m   1888\u001B[0m     storage_options\u001B[38;5;241m=\u001B[39m\u001B[38;5;28mself\u001B[39m\u001B[38;5;241m.\u001B[39moptions\u001B[38;5;241m.\u001B[39mget(\u001B[38;5;124m\"\u001B[39m\u001B[38;5;124mstorage_options\u001B[39m\u001B[38;5;124m\"\u001B[39m, \u001B[38;5;28;01mNone\u001B[39;00m),\n\u001B[1;32m   1889\u001B[0m )\n\u001B[1;32m   1890\u001B[0m \u001B[38;5;28;01massert\u001B[39;00m \u001B[38;5;28mself\u001B[39m\u001B[38;5;241m.\u001B[39mhandles \u001B[38;5;129;01mis\u001B[39;00m \u001B[38;5;129;01mnot\u001B[39;00m \u001B[38;5;28;01mNone\u001B[39;00m\n\u001B[1;32m   1891\u001B[0m f \u001B[38;5;241m=\u001B[39m \u001B[38;5;28mself\u001B[39m\u001B[38;5;241m.\u001B[39mhandles\u001B[38;5;241m.\u001B[39mhandle\n",
      "File \u001B[0;32m/opt/anaconda3/lib/python3.12/site-packages/pandas/io/common.py:873\u001B[0m, in \u001B[0;36mget_handle\u001B[0;34m(path_or_buf, mode, encoding, compression, memory_map, is_text, errors, storage_options)\u001B[0m\n\u001B[1;32m    868\u001B[0m \u001B[38;5;28;01melif\u001B[39;00m \u001B[38;5;28misinstance\u001B[39m(handle, \u001B[38;5;28mstr\u001B[39m):\n\u001B[1;32m    869\u001B[0m     \u001B[38;5;66;03m# Check whether the filename is to be opened in binary mode.\u001B[39;00m\n\u001B[1;32m    870\u001B[0m     \u001B[38;5;66;03m# Binary mode does not support 'encoding' and 'newline'.\u001B[39;00m\n\u001B[1;32m    871\u001B[0m     \u001B[38;5;28;01mif\u001B[39;00m ioargs\u001B[38;5;241m.\u001B[39mencoding \u001B[38;5;129;01mand\u001B[39;00m \u001B[38;5;124m\"\u001B[39m\u001B[38;5;124mb\u001B[39m\u001B[38;5;124m\"\u001B[39m \u001B[38;5;129;01mnot\u001B[39;00m \u001B[38;5;129;01min\u001B[39;00m ioargs\u001B[38;5;241m.\u001B[39mmode:\n\u001B[1;32m    872\u001B[0m         \u001B[38;5;66;03m# Encoding\u001B[39;00m\n\u001B[0;32m--> 873\u001B[0m         handle \u001B[38;5;241m=\u001B[39m \u001B[38;5;28mopen\u001B[39m(\n\u001B[1;32m    874\u001B[0m             handle,\n\u001B[1;32m    875\u001B[0m             ioargs\u001B[38;5;241m.\u001B[39mmode,\n\u001B[1;32m    876\u001B[0m             encoding\u001B[38;5;241m=\u001B[39mioargs\u001B[38;5;241m.\u001B[39mencoding,\n\u001B[1;32m    877\u001B[0m             errors\u001B[38;5;241m=\u001B[39merrors,\n\u001B[1;32m    878\u001B[0m             newline\u001B[38;5;241m=\u001B[39m\u001B[38;5;124m\"\u001B[39m\u001B[38;5;124m\"\u001B[39m,\n\u001B[1;32m    879\u001B[0m         )\n\u001B[1;32m    880\u001B[0m     \u001B[38;5;28;01melse\u001B[39;00m:\n\u001B[1;32m    881\u001B[0m         \u001B[38;5;66;03m# Binary mode\u001B[39;00m\n\u001B[1;32m    882\u001B[0m         handle \u001B[38;5;241m=\u001B[39m \u001B[38;5;28mopen\u001B[39m(handle, ioargs\u001B[38;5;241m.\u001B[39mmode)\n",
      "\u001B[0;31mFileNotFoundError\u001B[0m: [Errno 2] No such file or directory: '/Users/qingchen/Documents/Data/zhouLabData/Fan_DaraClearn/BrainProject/Import_data/PD_NP_4EPQ.csv'"
     ]
    }
   ],
   "source": [
    "mark = '4EPQ'\n",
    "type = 'subtype1'\n",
    "# 需要对 step2_group_subtype1 step2_group_subtype2 subID进行处理\n",
    "# 读取两个CSV文件\n",
    "file_2 = '/Volumes/QCI/NormativeModel/Results/Result_GrayVol246_HBR_HCMDD_1129/StaResults/'+type+'_Zvalue.csv'\n",
    "file_1 = '/Users/qingchen/Documents/Data/zhouLabData/Fan_DaraClearn/BrainProject/Import_data/PD_NP_'+mark+'.csv'\n",
    "\n",
    "\n",
    "\n",
    "# Read the CSV files into DataFrames\n",
    "df1 = pd.read_csv(file_1)\n",
    "df2 = pd.read_csv(file_2)\n",
    "\n",
    "df_new = pd.merge(df2, df1, on='subID', how='inner')\n",
    "\n",
    "# df_new.to_csv('/Volumes/QCI/NormativeModel/Results/Result_GrayVol246_HBR_HCMDD_1129/StaResults/PLS/'+type+'_Zvalue_'+mark+'.csv', index=False)\n",
    "print(df_new)\n",
    "data = np.array(df_new.iloc[:, 1:])\n",
    "print(data.shape)\n",
    "# savemat('/Volumes/QCI/NormativeModel/Results/Result_GrayVol246_HBR_HCMDD_1129/StaResults/PLS/'+type+'_Zvalue_'+mark+'.mat', {'s1': data})\n",
    "#-------------------------------------------"
   ],
   "metadata": {
    "collapsed": false,
    "ExecuteTime": {
     "end_time": "2024-12-19T07:11:12.252641Z",
     "start_time": "2024-12-19T07:11:11.732636Z"
    }
   }
  },
  {
   "cell_type": "markdown",
   "source": [
    "# 找 CSV中的空值"
   ],
   "metadata": {
    "collapsed": false
   }
  },
  {
   "cell_type": "code",
   "execution_count": 6,
   "outputs": [
    {
     "name": "stdout",
     "output_type": "stream",
     "text": [
      "未发现空值\n"
     ]
    }
   ],
   "source": [
    "import pandas as pd\n",
    "\n",
    "import csv\n",
    "\n",
    "\n",
    "def check_null_values_in_csv(file_path):\n",
    "    null_positions = []\n",
    "    with open(file_path, 'r', encoding='utf-8') as csvfile:\n",
    "        reader = csv.reader(csvfile)\n",
    "        header = next(reader)  # 读取表头\n",
    "        for row_index, row in enumerate(reader, start=1):  # 从第一行数据开始遍历，索引从1开始（对应实际行数）\n",
    "            for col_index, cell in enumerate(row):\n",
    "                if cell.strip() == \"\":  # 判断单元格去除空白字符后是否为空\n",
    "                    null_positions.append((row_index, col_index))\n",
    "    return null_positions\n",
    "\n",
    "\n",
    "# 读取CSV文件\n",
    "file_path = '/Volumes/QCI/NormativeModel/Results/Result_GrayVol246_HBR_HCMDD_1129/StaResults/ClinicalInfo/Allscale.csv'  # 假设CSV文件路径为subtype1_HAMD_explCovLC.csv\n",
    "df = pd.read_csv(file_path, header=None)\n",
    "\n",
    "# 使用示例\n",
    "#file_path = \"your_file.csv\"  # 替换为实际的CSV文件路径\n",
    "result = check_null_values_in_csv(file_path)\n",
    "if result:\n",
    "    print(\"发现空值，位置如下：\")\n",
    "    for pos in result:\n",
    "        print(f\"行：{pos[0]}，列：{pos[1]}\")\n",
    "else:\n",
    "    print(\"未发现空值\")"
   ],
   "metadata": {
    "collapsed": false,
    "ExecuteTime": {
     "end_time": "2024-12-19T07:12:18.274974Z",
     "start_time": "2024-12-19T07:12:18.264164Z"
    }
   }
  },
  {
   "cell_type": "markdown",
   "source": [
    "# 多表合并"
   ],
   "metadata": {
    "collapsed": false
   }
  },
  {
   "cell_type": "code",
   "execution_count": null,
   "outputs": [],
   "source": [
    "import pandas as pd\n",
    "\n",
    "\n",
    "file_paths = glob.glob(\"/Volumes/QCI/NormativeModel/Results/Result_GrayVol246_HBR_HCMDD_1129/StaResults/ClinicalInfo/BP*.csv\")\n",
    "file_paths = []\n",
    "file_paths.append('/Users/qingchen/Documents/Data/zhouLabData/Fan_DaraClearn/BrainProject/Import_data/PD_NP_Baseline/label.csv')\n",
    "\n",
    "file_paths.append('/Users/qingchen/Documents/Data/zhouLabData/Fan_DaraClearn/BrainProject/Import_data/PD_NP_Baseline/PD_NP_HAMD17.csv')\n",
    "file_paths.append('/Users/qingchen/Documents/Data/zhouLabData/Fan_DaraClearn/BrainProject/Import_data/PD_NP_Baseline/PD_NP_HAMA.csv')\n",
    "file_paths.append('/Users/qingchen/Documents/Data/zhouLabData/Fan_DaraClearn/BrainProject/Import_data/PD_NP_Baseline/PD_NP_GAD.csv')\n",
    "# 读取第一个文件作为基准表格\n",
    "df_merged = pd.read_csv(file_paths[0])\n",
    "\n",
    "# 从第二个文件开始，逐一合并\n",
    "for file_path in file_paths[1:]:\n",
    "    df = pd.read_csv(file_path)\n",
    "    # 根据 'subID' 合并数据，on='subID' 表示基于 'subID' 列合并\n",
    "    df_merged = pd.merge(df_merged, df, on='subID', how='outer')  # 使用 outer 合并保留所有 subID\n",
    "\n",
    "# 显示合并后的数据框\n",
    "print(df_merged)\n",
    "\n",
    "# 如果你想将合并后的表格保存为新的 CSV 文件：\n",
    "df_merged.to_csv('./merged_data.csv', index=False)"
   ],
   "metadata": {
    "collapsed": false
   }
  },
  {
   "cell_type": "code",
   "execution_count": null,
   "outputs": [],
   "source": [
    "file_2 = '/Volumes/QCI/NormativeModel/Results/Result_GrayVol246_HBR_HCMDD_1129/StaResults/subtype1_Zvalue.csv'\n",
    "file_1 = '/Volumes/QCI/NormativeModel/Results/Result_GrayVol246_HBR_HCMDD_1129/StaResults/AllDataMDD_AllItermHAMD.csv'\n",
    "\n",
    "\n",
    "#Read the CSV files into DataFrames\n",
    "df1 = pd.read_csv(file_1)\n",
    "df2 = pd.read_csv(file_2)\n",
    "\n",
    "df_new = pd.merge(df2, df1, on='subID', how='inner')\n",
    "df_new.to_csv('./subtype1_ZvalueHAMD.csv', index=False)\n",
    "data = np.array(df_new.iloc[:, 1:])\n",
    "savemat('./subtype1_ZvalueHAMD.mat', {'s1': data})\n",
    "df_new.read_csv('/Volumes/QCI/NormativeModel/Results/Result_GrayVol246_HBR_HCMDD_1129/StaResults/subtype1_ZvalueHAMD.csv', index=False)\n",
    "print(df_new)\n",
    "data = np.array(df_new.iloc[:, 1:])\n",
    "print(data.shape)\n",
    "savemat('./subtype1_ZvalueHAMD.mat', {'s1': data})"
   ],
   "metadata": {
    "collapsed": false
   }
  },
  {
   "cell_type": "code",
   "execution_count": 22,
   "outputs": [
    {
     "name": "stdout",
     "output_type": "stream",
     "text": [
      "              subID     A8m_R    A8dl_R     A9l_R    A6dl_R     A6m_R  \\\n",
      "0    sub-1000002V01  2.256735  2.845037  1.140187  2.119601  1.665599   \n",
      "1    sub-1000003V01  3.850043  0.493618  0.591195  2.086274  2.095174   \n",
      "2    sub-1000012V01  0.306045  0.178332  0.750840  0.882353 -0.387079   \n",
      "3    sub-1000013V01  0.030197  0.562735  0.067403  0.471754 -0.458026   \n",
      "4    sub-1000024V01 -0.957605  0.692810  0.564968 -0.231006 -1.264626   \n",
      "..              ...       ...       ...       ...       ...       ...   \n",
      "155   sub-MDD136V01  1.883274  2.496475  1.456582  0.553351  0.772917   \n",
      "156      sub-MDD138  0.124009 -0.596345 -1.279042 -0.173816  1.266572   \n",
      "157   sub-MDD138V01  0.017683  0.292191  0.099809  2.179443 -0.285763   \n",
      "158      sub-MDD139  0.661315  0.659181  0.782720  0.993955  0.350061   \n",
      "159   sub-MDD141V01 -0.092646  1.225523 -0.190649  0.107742  1.024956   \n",
      "\n",
      "        A9m_R    A10m_R     46d_R     IFJ_R  ...  HAMD13  HAMD14  HAMD15  \\\n",
      "0    0.790746  1.003826  1.864716  1.616383  ...       2       0       0   \n",
      "1    2.066153  1.464112  0.895495 -0.684348  ...       1       1       0   \n",
      "2   -0.279302  0.908033 -0.547489  0.614994  ...       1       0       0   \n",
      "3    0.083187  0.071501 -0.500026  0.184754  ...       2       2       0   \n",
      "4   -0.364641 -0.346211 -0.191997  1.654257  ...       0       1       2   \n",
      "..        ...       ...       ...       ...  ...     ...     ...     ...   \n",
      "155  0.788779  1.054968  1.229995 -0.367832  ...       2       2       0   \n",
      "156  0.136737 -1.087135 -0.802084  0.637977  ...       2       0       0   \n",
      "157 -0.170328  0.034004 -0.369726 -0.844476  ...       2       2       0   \n",
      "158  0.713522  1.072424  0.795284 -0.545377  ...       1       0       0   \n",
      "159 -0.789272  0.037438 -0.469883 -0.312043  ...       2       1       0   \n",
      "\n",
      "     HAMD16  HAMD17  f1  f2  f3  f4  f5  \n",
      "0         0       0   4   0   4   8   5  \n",
      "1         0       0   6   0   7   9   3  \n",
      "2         1       1   6   1   5   6   3  \n",
      "3         2       1   5   2   6  10   1  \n",
      "4         1       1   6   1   5   7   4  \n",
      "..      ...     ...  ..  ..  ..  ..  ..  \n",
      "155       2       0   3   2   3   7   5  \n",
      "156       0       0   2   0   3   5   2  \n",
      "157       0       0   4   0   3   8   0  \n",
      "158       2       0   4   2   7   7   3  \n",
      "159       2       0   6   2   4   8   5  \n",
      "\n",
      "[160 rows x 247 columns]\n"
     ]
    }
   ],
   "source": [
    "import pandas as pd\n",
    "import numpy as np\n",
    "from scipy.io import savemat\n",
    "df_new = pd.read_csv('/Volumes/QCI/NormativeModel/Results/Result_GrayVol246_HBR_HCMDD_1129/StaResults/subtype2_ZvalueHAMD_5f.csv')\n",
    "print(df_new)\n",
    "data = np.array(df_new.iloc[:, 1:])\n",
    "savemat('/Volumes/QCI/NormativeModel/Results/Result_GrayVol246_HBR_HCMDD_1129/StaResults/subtype2_ZvalueHAMD_5f.mat', {'s1': data})"
   ],
   "metadata": {
    "collapsed": false,
    "ExecuteTime": {
     "end_time": "2024-12-19T14:05:14.615013Z",
     "start_time": "2024-12-19T14:05:14.596653Z"
    }
   }
  },
  {
   "cell_type": "code",
   "execution_count": 1,
   "outputs": [
    {
     "ename": "NameError",
     "evalue": "name 'pd' is not defined",
     "output_type": "error",
     "traceback": [
      "\u001B[0;31m---------------------------------------------------------------------------\u001B[0m",
      "\u001B[0;31mNameError\u001B[0m                                 Traceback (most recent call last)",
      "Cell \u001B[0;32mIn[1], line 6\u001B[0m\n\u001B[1;32m      2\u001B[0m file_1 \u001B[38;5;241m=\u001B[39m \u001B[38;5;124m'\u001B[39m\u001B[38;5;124m/Volumes/QCI/NormativeModel/FeatureData/StructureFeature_246/Longitudinal/BN224/PD_GrayVol_BN224_V24.csv\u001B[39m\u001B[38;5;124m'\u001B[39m\n\u001B[1;32m      5\u001B[0m \u001B[38;5;66;03m#Read the CSV files into DataFrames\u001B[39;00m\n\u001B[0;32m----> 6\u001B[0m df1 \u001B[38;5;241m=\u001B[39m pd\u001B[38;5;241m.\u001B[39mread_csv(file_1)\n\u001B[1;32m      7\u001B[0m df2 \u001B[38;5;241m=\u001B[39m pd\u001B[38;5;241m.\u001B[39mread_csv(file_2)\n\u001B[1;32m      9\u001B[0m df_new \u001B[38;5;241m=\u001B[39m pd\u001B[38;5;241m.\u001B[39mmerge(df2, df1, on\u001B[38;5;241m=\u001B[39m\u001B[38;5;124m'\u001B[39m\u001B[38;5;124msubID\u001B[39m\u001B[38;5;124m'\u001B[39m, how\u001B[38;5;241m=\u001B[39m\u001B[38;5;124m'\u001B[39m\u001B[38;5;124minner\u001B[39m\u001B[38;5;124m'\u001B[39m)\n",
      "\u001B[0;31mNameError\u001B[0m: name 'pd' is not defined"
     ]
    }
   ],
   "source": [
    "file_2 = '/Users/qingchen/Desktop/allMDDGrayVol246_sum_1129.csv'\n",
    "file_1 = '/Volumes/QCI/NormativeModel/FeatureData/StructureFeature_246/Longitudinal/BN224/PD_GrayVol_BN224_V24.csv'\n",
    "\n",
    "\n",
    "#Read the CSV files into DataFrames\n",
    "df1 = pd.read_csv(file_1)\n",
    "df2 = pd.read_csv(file_2)\n",
    "\n",
    "df_new = pd.merge(df2, df1, on='subID', how='inner')\n",
    "#df_new.to_csv('/Users/qingchen/Desktop/PD_GrayVol_BN224_V24.csv', index=False)"
   ],
   "metadata": {
    "collapsed": false,
    "ExecuteTime": {
     "end_time": "2024-12-23T03:19:34.497330Z",
     "start_time": "2024-12-23T03:19:34.307618Z"
    }
   }
  }
 ],
 "metadata": {
  "kernelspec": {
   "name": "conda-base-py",
   "language": "python",
   "display_name": "Python [conda env:base] *"
  },
  "language_info": {
   "codemirror_mode": {
    "name": "ipython",
    "version": 2
   },
   "file_extension": ".py",
   "mimetype": "text/x-python",
   "name": "python",
   "nbconvert_exporter": "python",
   "pygments_lexer": "ipython2",
   "version": "2.7.6"
  }
 },
 "nbformat": 4,
 "nbformat_minor": 0
}
