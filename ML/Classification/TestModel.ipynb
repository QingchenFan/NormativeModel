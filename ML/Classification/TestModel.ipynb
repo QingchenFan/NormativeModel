{
 "cells": [
  {
   "cell_type": "code",
   "execution_count": null,
   "metadata": {
    "collapsed": true,
    "is_executing": true
   },
   "outputs": [],
   "source": [
    "import pandas as pd\n",
    "from sklearn.utils import resample"
   ]
  },
  {
   "cell_type": "code",
   "execution_count": null,
   "outputs": [],
   "source": [
    "Data = pd.read_csv(\"/Volumes/QCI/NormativeModel/Results/Result_GrayVol246_HBR_HCMDD_1129/StaResults/\"\n",
    "                   \"AllMDD_Zvalue_DisorderHistory.csv\")"
   ],
   "metadata": {
    "collapsed": false,
    "is_executing": true
   }
  },
  {
   "cell_type": "code",
   "execution_count": null,
   "outputs": [],
   "source": [
    "# 1. 分离出标签为 0 和标签为 1 的样本\n",
    "data_0 = Data[Data['disorderHistory'] == 0]\n",
    "data_1 = Data[Data['disorderHistory'] == 1]\n",
    "\n",
    "# 2. 从标签为 0 的样本中随机抽取与标签为 1 的样本数量相同的样本\n",
    "data_0_resampled = resample(data_0,\n",
    "                            replace=False,  # 不允许重复抽样\n",
    "                            n_samples=len(data_1),  # 使得样本数与标签为 1 的样本相同\n",
    "                            random_state=42)  # 设置随机种子以确保可复现\n",
    "\n",
    "# 3. 合并标签为 1 和随机抽样后的标签为 0 的样本\n",
    "data_balanced = pd.concat([data_1, data_0_resampled])\n",
    "\n",
    "# 4. 打乱数据（可以选择是否需要）\n",
    "data_balanced = data_balanced.sample(frac=1, random_state=42).reset_index(drop=True)\n",
    "data_balanced"
   ],
   "metadata": {
    "collapsed": false,
    "is_executing": true
   }
  }
 ],
 "metadata": {
  "kernelspec": {
   "display_name": "Python 3",
   "language": "python",
   "name": "python3"
  },
  "language_info": {
   "codemirror_mode": {
    "name": "ipython",
    "version": 2
   },
   "file_extension": ".py",
   "mimetype": "text/x-python",
   "name": "python",
   "nbconvert_exporter": "python",
   "pygments_lexer": "ipython2",
   "version": "2.7.6"
  }
 },
 "nbformat": 4,
 "nbformat_minor": 0
}
